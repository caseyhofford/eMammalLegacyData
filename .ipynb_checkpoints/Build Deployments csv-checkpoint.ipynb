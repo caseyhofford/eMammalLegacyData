{
 "cells": [
  {
   "cell_type": "code",
   "execution_count": 2,
   "metadata": {
    "scrolled": true
   },
   "outputs": [],
   "source": [
    "from bs4 import UnicodeDammit\n",
    "import requests\n",
    "from bs4 import BeautifulSoup\n",
    "import pandas\n",
    "import json\n",
    "import math\n",
    "import numpy"
   ]
  },
  {
   "cell_type": "code",
   "execution_count": 8,
   "metadata": {},
   "outputs": [],
   "source": [
    "all_deployments = pandas.read_csv(\"HL_deployment_templates.csv\")"
   ]
  },
  {
   "cell_type": "markdown",
   "metadata": {},
   "source": [
    "Wanglang_Deployments contains the deployments actually present in the images"
   ]
  },
  {
   "cell_type": "code",
   "execution_count": 157,
   "metadata": {},
   "outputs": [],
   "source": [
    "wanglang_deployments = pandas.read_csv(\"bulk_deployment_import_wanglang.csv\")"
   ]
  },
  {
   "cell_type": "code",
   "execution_count": 3,
   "metadata": {},
   "outputs": [],
   "source": [
    "xiaohegou = pandas.read_csv(\"Camera Location_Xiaohegou_2015-16.csv\")"
   ]
  },
  {
   "cell_type": "code",
   "execution_count": 7,
   "metadata": {},
   "outputs": [],
   "source": [
    "wolong = pandas.read_csv(\"Camera Location_Wolong_2014-16.csv\")"
   ]
  },
  {
   "cell_type": "code",
   "execution_count": 12,
   "metadata": {},
   "outputs": [],
   "source": [
    "wanglang = pandas.read_csv(\"Camera Location_Wanglang_2014-17.csv\")"
   ]
  },
  {
   "cell_type": "code",
   "execution_count": 4,
   "metadata": {},
   "outputs": [],
   "source": [
    "wanglang_images = pandas.read_csv(\"/home/casey/eMammal/Wanglang NR_2014-2017_IUCN_ITIS_dep_birdsunkn.csv\", parse_dates=[\"Date.Time\"])"
   ]
  },
  {
   "cell_type": "code",
   "execution_count": 12,
   "metadata": {},
   "outputs": [],
   "source": [
    "cookie = 'WT_FPC=id=2df63e7698eb753e4b71522035157890:lv=1526495846474:ss=1526495838186; SecuritySettings=False&False; Drupal.tableDrag.showWeight=0; TS01cd45de=011ba33c7e07011f72e137e46048b027f81467d389fd629cfec1157ac5275937ed547422a199d07954c260ed392c1566bc2a780eef; has_js=1; SSESS9306d39d8ccd3bf0b5bb11e30ca9c761=OJM7qHuvaB3I2RBVIObCzKDEkLyL0y8cWUL9Zc-iBW0'"
   ]
  },
  {
   "cell_type": "code",
   "execution_count": 86,
   "metadata": {},
   "outputs": [
    {
     "ename": "NameError",
     "evalue": "name 'cookie' is not defined",
     "output_type": "error",
     "traceback": [
      "\u001b[0;31m---------------------------------------------------------------------------\u001b[0m",
      "\u001b[0;31mNameError\u001b[0m                                 Traceback (most recent call last)",
      "\u001b[0;32m<ipython-input-86-fba446bc46ce>\u001b[0m in \u001b[0;36m<module>\u001b[0;34m()\u001b[0m\n\u001b[1;32m      6\u001b[0m \u001b[0;34m,\u001b[0m\u001b[0;34m\"Cache-Control\"\u001b[0m\u001b[0;34m:\u001b[0m \u001b[0;34m'max-age=0, no-cache'\u001b[0m\u001b[0;34m\u001b[0m\u001b[0m\n\u001b[1;32m      7\u001b[0m \u001b[0;34m,\u001b[0m\u001b[0;34m\"Connection\"\u001b[0m\u001b[0;34m:\u001b[0m \u001b[0;34m'keep-alive'\u001b[0m\u001b[0;34m\u001b[0m\u001b[0m\n\u001b[0;32m----> 8\u001b[0;31m \u001b[0;34m,\u001b[0m\u001b[0;34m\"Cookie\"\u001b[0m\u001b[0;34m:\u001b[0m \u001b[0mcookie\u001b[0m\u001b[0;34m\u001b[0m\u001b[0m\n\u001b[0m\u001b[1;32m      9\u001b[0m \u001b[0;34m,\u001b[0m\u001b[0;34m\"Upgrade-Insecure-Requests\"\u001b[0m\u001b[0;34m:\u001b[0m \u001b[0;34m\"1\"\u001b[0m\u001b[0;34m\u001b[0m\u001b[0m\n\u001b[1;32m     10\u001b[0m ,\"Pragma\": 'no-cache'}\n",
      "\u001b[0;31mNameError\u001b[0m: name 'cookie' is not defined"
     ]
    }
   ],
   "source": [
    "payload = {\"Host\": 'emammal.si.edu'\n",
    ",\"User-Agent\": 'Mozilla/5.0 (Windows NT 10.0; Win64; x64; rv:59.0) Gecko/20100101 Firefox/59.0'\n",
    ",\"Accept\": 'text/html,application/xhtml+xml,application/xml;q=0.9,*/*;q=0.8'\n",
    ",\"Accept-Language\": 'en-US,en;q=0.5'\n",
    ",\"Accept-Encoding\": 'gzip, deflate, br'\n",
    ",\"Cache-Control\": 'max-age=0, no-cache'\n",
    ",\"Connection\": 'keep-alive'\n",
    ",\"Cookie\": cookie\n",
    ",\"Upgrade-Insecure-Requests\": \"1\"\n",
    ",\"Pragma\": 'no-cache'}\n",
    "project_url = 'https://emammal.si.edu/giant-panda-wildlife-survey-wolong-sichuan'#wolong\n",
    "#project_url = 'https://emammal.si.edu/habitat-connectivity-minshan-mountains'#Xiagegou, Wanglang\n",
    "input = ''"
   ]
  },
  {
   "cell_type": "code",
   "execution_count": 158,
   "metadata": {},
   "outputs": [],
   "source": [
    "wanglang_deployments[\"Deployment Name\"] = wanglang_deployments[\"Deployment Name\"].str.slice(0,11)"
   ]
  },
  {
   "cell_type": "code",
   "execution_count": 85,
   "metadata": {},
   "outputs": [],
   "source": [
    "project_url = 'https://emammal.si.edu/habitat-connectivity-minshan-mountains'"
   ]
  },
  {
   "cell_type": "code",
   "execution_count": 84,
   "metadata": {},
   "outputs": [
    {
     "ename": "NameError",
     "evalue": "name 'project_url' is not defined",
     "output_type": "error",
     "traceback": [
      "\u001b[0;31m---------------------------------------------------------------------------\u001b[0m",
      "\u001b[0;31mNameError\u001b[0m                                 Traceback (most recent call last)",
      "\u001b[0;32m<ipython-input-84-f8f8eb1b83ec>\u001b[0m in \u001b[0;36m<module>\u001b[0;34m()\u001b[0m\n\u001b[0;32m----> 1\u001b[0;31m \u001b[0;32mdef\u001b[0m \u001b[0mbuild_deploymentid_key\u001b[0m\u001b[0;34m(\u001b[0m\u001b[0mobservations\u001b[0m\u001b[0;34m,\u001b[0m\u001b[0mproject_url\u001b[0m\u001b[0;34m=\u001b[0m\u001b[0mproject_url\u001b[0m\u001b[0;34m,\u001b[0m\u001b[0mpayload\u001b[0m\u001b[0;34m=\u001b[0m\u001b[0mpayload\u001b[0m\u001b[0;34m)\u001b[0m\u001b[0;34m:\u001b[0m\u001b[0;31m#takes a dataframe, a project url and a request header and returns a dictionary of deployment ID pairs {string:ID,etc...}\u001b[0m\u001b[0;34m\u001b[0m\u001b[0m\n\u001b[0m\u001b[1;32m      2\u001b[0m     \u001b[0mdeploymentkey\u001b[0m \u001b[0;34m=\u001b[0m \u001b[0;34m{\u001b[0m\u001b[0;34m}\u001b[0m\u001b[0;34m\u001b[0m\u001b[0m\n\u001b[1;32m      3\u001b[0m     \u001b[0;32mfor\u001b[0m \u001b[0mindex\u001b[0m\u001b[0;34m,\u001b[0m \u001b[0mrow\u001b[0m \u001b[0;32min\u001b[0m \u001b[0mobservations\u001b[0m\u001b[0;34m.\u001b[0m\u001b[0miterrows\u001b[0m\u001b[0;34m(\u001b[0m\u001b[0;34m)\u001b[0m\u001b[0;34m:\u001b[0m\u001b[0;34m\u001b[0m\u001b[0m\n\u001b[1;32m      4\u001b[0m         \u001b[0moldID\u001b[0m \u001b[0;34m=\u001b[0m \u001b[0mrow\u001b[0m\u001b[0;34m[\u001b[0m\u001b[0;34m'Deployment.ID'\u001b[0m\u001b[0;34m]\u001b[0m\u001b[0;34m\u001b[0m\u001b[0m\n\u001b[1;32m      5\u001b[0m         \u001b[0;32mif\u001b[0m \u001b[0mrow\u001b[0m\u001b[0;34m[\u001b[0m\u001b[0;34m'Deployment.ID'\u001b[0m\u001b[0;34m]\u001b[0m \u001b[0;32mnot\u001b[0m \u001b[0;32min\u001b[0m \u001b[0mdeploymentkey\u001b[0m\u001b[0;34m:\u001b[0m\u001b[0;34m\u001b[0m\u001b[0m\n",
      "\u001b[0;31mNameError\u001b[0m: name 'project_url' is not defined"
     ]
    }
   ],
   "source": [
    "def build_deploymentid_key(observations,project_url=project_url,payload=payload):#takes a dataframe, a project url and a request header and returns a dictionary of deployment ID pairs {string:ID,etc...}\n",
    "    deploymentkey = {}\n",
    "    for index, row in observations.iterrows():\n",
    "        oldID = row['Deployment.ID']\n",
    "        if row['Deployment.ID'] not in deploymentkey:\n",
    "            deploymentkey[row['Deployment.ID']] = extract_deploymentid(row['Deployment.ID'],payload,project_url)"
   ]
  },
  {
   "cell_type": "code",
   "execution_count": 18,
   "metadata": {},
   "outputs": [],
   "source": [
    "wanglang = wanglang[['Camera Deployment ID', 'Elevation', 'Latitude', 'Longitude',\n",
    "       'Camera Deployment Begin Date', 'Camera Deployment Begin Time',\n",
    "       'Camera ID', 'Camera Deployment End Date', 'Vegetation Type',\n",
    "       'Quiet Period Setting', 'Sensitivity Setting']]"
   ]
  },
  {
   "cell_type": "code",
   "execution_count": 159,
   "metadata": {},
   "outputs": [
    {
     "data": {
      "text/plain": [
       "Index(['Deployment Name', 'Other Treatment', 'Other Treatment Description',\n",
       "       'Users', 'Groups Audience', 'Feature', 'Feature Description', 'Bait',\n",
       "       'Bait Description', 'Proposed Latitude', 'Proposed Longitude',\n",
       "       'Proposed Date Out', 'Proposed Retrieval Date',\n",
       "       'Image Resolution Setting', 'Quiet Period Setting',\n",
       "       'Sensitivity Setting', 'Subproject Node ID', 'Group Content Visibility',\n",
       "       'Status'],\n",
       "      dtype='object')"
      ]
     },
     "execution_count": 159,
     "metadata": {},
     "output_type": "execute_result"
    }
   ],
   "source": [
    "wanglang_deployments.columns"
   ]
  },
  {
   "cell_type": "code",
   "execution_count": 87,
   "metadata": {},
   "outputs": [],
   "source": [
    "#wanglang['Camera.Deployment.ID1'] = build_deploymentid_key(wanglang['Camera Deployment ID'])\n",
    "\n",
    "def extract_deploymentid(row,payload,project_url):\n",
    "    #url = 'https://emammal.si.edu/habitat-connectivity-minshan-mountains/content/'+deployment.lower()\n",
    "    deployment = row['Camera Deployment ID']\n",
    "    url = project_url+'/content/'+deployment.lower()\n",
    "    print(url)\n",
    "    request = requests.get(url, headers=payload)\n",
    "    if request.status_code == 200:\n",
    "        response = request.text\n",
    "        soup = BeautifulSoup(response,\"html5lib\")\n",
    "        deploymentid = soup.find(class_='field field-name-field-em-nid field-type-field-hidden-text field-label-inline clearfix').find_all(\"div\")[2].get_text()\n",
    "        return deploymentid\n",
    "    else:\n",
    "        print(url+\" : \"+str(request.status_code))\n",
    "        return None"
   ]
  },
  {
   "cell_type": "code",
   "execution_count": 160,
   "metadata": {},
   "outputs": [],
   "source": [
    "wanglang_deployments = wanglang_deployments.set_index(\"Deployment Name\")"
   ]
  },
  {
   "cell_type": "code",
   "execution_count": 37,
   "metadata": {
    "collapsed": true
   },
   "outputs": [
    {
     "name": "stdout",
     "output_type": "stream",
     "text": [
      "https://emammal.si.edu/habitat-connectivity-minshan-mountains/content/l-wl14-j18a\n",
      "https://emammal.si.edu/habitat-connectivity-minshan-mountains/content/l-wl14-k16a\n",
      "https://emammal.si.edu/habitat-connectivity-minshan-mountains/content/l-wl14-k17a\n",
      "https://emammal.si.edu/habitat-connectivity-minshan-mountains/content/l-wl14-l10a\n",
      "https://emammal.si.edu/habitat-connectivity-minshan-mountains/content/l-wl14-l14a\n",
      "https://emammal.si.edu/habitat-connectivity-minshan-mountains/content/l-wl14-l15a\n",
      "https://emammal.si.edu/habitat-connectivity-minshan-mountains/content/l-wl14-l15b\n",
      "https://emammal.si.edu/habitat-connectivity-minshan-mountains/content/l-wl14-n08a\n",
      "https://emammal.si.edu/habitat-connectivity-minshan-mountains/content/l-wl14-n09a\n",
      "https://emammal.si.edu/habitat-connectivity-minshan-mountains/content/l-wl14-o09a\n",
      "https://emammal.si.edu/habitat-connectivity-minshan-mountains/content/l-wl14-o09b\n",
      "https://emammal.si.edu/habitat-connectivity-minshan-mountains/content/l-wl14-o11a\n",
      "https://emammal.si.edu/habitat-connectivity-minshan-mountains/content/l-wl14-o12a\n",
      "https://emammal.si.edu/habitat-connectivity-minshan-mountains/content/l-wl14-p09a\n",
      "https://emammal.si.edu/habitat-connectivity-minshan-mountains/content/l-wl14-p09b\n",
      "https://emammal.si.edu/habitat-connectivity-minshan-mountains/content/l-wl14-p12a\n",
      "https://emammal.si.edu/habitat-connectivity-minshan-mountains/content/l-wl14-p12b\n",
      "https://emammal.si.edu/habitat-connectivity-minshan-mountains/content/l-wl14-q10a\n",
      "https://emammal.si.edu/habitat-connectivity-minshan-mountains/content/l-wl14-q11a\n",
      "https://emammal.si.edu/habitat-connectivity-minshan-mountains/content/l-wl14-q12a\n",
      "https://emammal.si.edu/habitat-connectivity-minshan-mountains/content/l-wl14-q12b\n",
      "https://emammal.si.edu/habitat-connectivity-minshan-mountains/content/l-wl14-r10a\n",
      "https://emammal.si.edu/habitat-connectivity-minshan-mountains/content/l-wl14-r11a\n",
      "https://emammal.si.edu/habitat-connectivity-minshan-mountains/content/l-wl14-r12a\n",
      "https://emammal.si.edu/habitat-connectivity-minshan-mountains/content/l-wl14-s10a\n",
      "https://emammal.si.edu/habitat-connectivity-minshan-mountains/content/l-wl14-s11a\n",
      "https://emammal.si.edu/habitat-connectivity-minshan-mountains/content/l-wl14-s14a\n",
      "https://emammal.si.edu/habitat-connectivity-minshan-mountains/content/l-wl14-t14a\n",
      "https://emammal.si.edu/habitat-connectivity-minshan-mountains/content/l-wl15-d15a\n",
      "https://emammal.si.edu/habitat-connectivity-minshan-mountains/content/l-wl15-e09a\n",
      "https://emammal.si.edu/habitat-connectivity-minshan-mountains/content/l-wl15-e10a\n",
      "https://emammal.si.edu/habitat-connectivity-minshan-mountains/content/l-wl15-e11a\n",
      "https://emammal.si.edu/habitat-connectivity-minshan-mountains/content/l-wl15-e13a\n",
      "https://emammal.si.edu/habitat-connectivity-minshan-mountains/content/l-wl15-e13b\n",
      "https://emammal.si.edu/habitat-connectivity-minshan-mountains/content/l-wl15-e14a\n",
      "https://emammal.si.edu/habitat-connectivity-minshan-mountains/content/l-wl15-f06a\n",
      "https://emammal.si.edu/habitat-connectivity-minshan-mountains/content/l-wl15-f06b\n",
      "https://emammal.si.edu/habitat-connectivity-minshan-mountains/content/l-wl15-f07a\n",
      "https://emammal.si.edu/habitat-connectivity-minshan-mountains/content/l-wl15-f09a\n",
      "https://emammal.si.edu/habitat-connectivity-minshan-mountains/content/l-wl15-f09b\n",
      "https://emammal.si.edu/habitat-connectivity-minshan-mountains/content/l-wl15-f10a\n",
      "https://emammal.si.edu/habitat-connectivity-minshan-mountains/content/l-wl15-g06a\n",
      "https://emammal.si.edu/habitat-connectivity-minshan-mountains/content/l-wl15-g06b\n",
      "https://emammal.si.edu/habitat-connectivity-minshan-mountains/content/l-wl15-g08a\n",
      "https://emammal.si.edu/habitat-connectivity-minshan-mountains/content/l-wl15-g08b\n",
      "https://emammal.si.edu/habitat-connectivity-minshan-mountains/content/l-wl15-h03a\n",
      "https://emammal.si.edu/habitat-connectivity-minshan-mountains/content/l-wl15-h05a\n",
      "https://emammal.si.edu/habitat-connectivity-minshan-mountains/content/l-wl15-h06a\n",
      "https://emammal.si.edu/habitat-connectivity-minshan-mountains/content/l-wl15-i06a\n",
      "https://emammal.si.edu/habitat-connectivity-minshan-mountains/content/l-wl15-j02b\n",
      "https://emammal.si.edu/habitat-connectivity-minshan-mountains/content/l-wl15-j05a\n",
      "https://emammal.si.edu/habitat-connectivity-minshan-mountains/content/l-wl15-j06a\n",
      "https://emammal.si.edu/habitat-connectivity-minshan-mountains/content/l-wl15-j13a\n",
      "https://emammal.si.edu/habitat-connectivity-minshan-mountains/content/l-wl15-j13b\n",
      "https://emammal.si.edu/habitat-connectivity-minshan-mountains/content/l-wl15-j19a\n",
      "https://emammal.si.edu/habitat-connectivity-minshan-mountains/content/l-wl15-j19b\n",
      "https://emammal.si.edu/habitat-connectivity-minshan-mountains/content/l-wl15-k07a\n",
      "https://emammal.si.edu/habitat-connectivity-minshan-mountains/content/l-wl15-k09a\n",
      "https://emammal.si.edu/habitat-connectivity-minshan-mountains/content/l-wl15-k09b\n",
      "https://emammal.si.edu/habitat-connectivity-minshan-mountains/content/l-wl15-k18a\n",
      "https://emammal.si.edu/habitat-connectivity-minshan-mountains/content/l-wl15-k19a\n",
      "https://emammal.si.edu/habitat-connectivity-minshan-mountains/content/l-wl15-k20a\n",
      "https://emammal.si.edu/habitat-connectivity-minshan-mountains/content/l-wl15-l06a\n",
      "https://emammal.si.edu/habitat-connectivity-minshan-mountains/content/l-wl15-l07a\n",
      "https://emammal.si.edu/habitat-connectivity-minshan-mountains/content/l-wl15-l08a\n",
      "https://emammal.si.edu/habitat-connectivity-minshan-mountains/content/l-wl15-l10a\n",
      "https://emammal.si.edu/habitat-connectivity-minshan-mountains/content/l-wl15-l13a\n",
      "https://emammal.si.edu/habitat-connectivity-minshan-mountains/content/l-wl15-l14a\n",
      "https://emammal.si.edu/habitat-connectivity-minshan-mountains/content/l-wl15-m06a\n",
      "https://emammal.si.edu/habitat-connectivity-minshan-mountains/content/l-wl15-m07a\n",
      "https://emammal.si.edu/habitat-connectivity-minshan-mountains/content/l-wl15-m08a\n",
      "https://emammal.si.edu/habitat-connectivity-minshan-mountains/content/l-wl15-m08b\n",
      "https://emammal.si.edu/habitat-connectivity-minshan-mountains/content/l-wl15-m09a\n",
      "https://emammal.si.edu/habitat-connectivity-minshan-mountains/content/l-wl15-m11a\n",
      "https://emammal.si.edu/habitat-connectivity-minshan-mountains/content/l-wl15-n06a\n",
      "https://emammal.si.edu/habitat-connectivity-minshan-mountains/content/l-wl15-n08a\n",
      "https://emammal.si.edu/habitat-connectivity-minshan-mountains/content/l-wl15-n10a\n",
      "https://emammal.si.edu/habitat-connectivity-minshan-mountains/content/l-wl15-n10b\n",
      "https://emammal.si.edu/habitat-connectivity-minshan-mountains/content/l-wl15-n11a\n",
      "https://emammal.si.edu/habitat-connectivity-minshan-mountains/content/l-wl15-o08a\n",
      "https://emammal.si.edu/habitat-connectivity-minshan-mountains/content/l-wl15-o08b\n",
      "https://emammal.si.edu/habitat-connectivity-minshan-mountains/content/l-wl15-o09a\n",
      "https://emammal.si.edu/habitat-connectivity-minshan-mountains/content/l-wl15-o10a\n",
      "https://emammal.si.edu/habitat-connectivity-minshan-mountains/content/l-wl15-o20a\n",
      "https://emammal.si.edu/habitat-connectivity-minshan-mountains/content/l-wl15-p08a\n",
      "https://emammal.si.edu/habitat-connectivity-minshan-mountains/content/l-wl15-p10a\n",
      "https://emammal.si.edu/habitat-connectivity-minshan-mountains/content/l-wl15-p10b\n",
      "https://emammal.si.edu/habitat-connectivity-minshan-mountains/content/l-wl15-p14a\n",
      "https://emammal.si.edu/habitat-connectivity-minshan-mountains/content/l-wl15-p17a\n",
      "https://emammal.si.edu/habitat-connectivity-minshan-mountains/content/l-wl15-p19a\n",
      "https://emammal.si.edu/habitat-connectivity-minshan-mountains/content/l-wl15-p20a\n",
      "https://emammal.si.edu/habitat-connectivity-minshan-mountains/content/l-wl15-q08a\n",
      "https://emammal.si.edu/habitat-connectivity-minshan-mountains/content/l-wl15-q09a\n",
      "https://emammal.si.edu/habitat-connectivity-minshan-mountains/content/l-wl15-q11a\n",
      "https://emammal.si.edu/habitat-connectivity-minshan-mountains/content/l-wl15-q14a\n",
      "https://emammal.si.edu/habitat-connectivity-minshan-mountains/content/l-wl15-q14b\n",
      "https://emammal.si.edu/habitat-connectivity-minshan-mountains/content/l-wl15-q15a\n",
      "https://emammal.si.edu/habitat-connectivity-minshan-mountains/content/l-wl15-q17a\n",
      "https://emammal.si.edu/habitat-connectivity-minshan-mountains/content/l-wl15-q17b\n",
      "https://emammal.si.edu/habitat-connectivity-minshan-mountains/content/l-wl15-q18a\n"
     ]
    },
    {
     "name": "stdout",
     "output_type": "stream",
     "text": [
      "https://emammal.si.edu/habitat-connectivity-minshan-mountains/content/l-wl15-r09a\n",
      "https://emammal.si.edu/habitat-connectivity-minshan-mountains/content/l-wl15-r11a\n",
      "https://emammal.si.edu/habitat-connectivity-minshan-mountains/content/l-wl15-r14a\n",
      "https://emammal.si.edu/habitat-connectivity-minshan-mountains/content/l-wl15-r15a\n",
      "https://emammal.si.edu/habitat-connectivity-minshan-mountains/content/l-wl15-r16a\n",
      "https://emammal.si.edu/habitat-connectivity-minshan-mountains/content/l-wl15-r17a\n",
      "https://emammal.si.edu/habitat-connectivity-minshan-mountains/content/l-wl15-r17b\n",
      "https://emammal.si.edu/habitat-connectivity-minshan-mountains/content/l-wl15-s11a\n",
      "https://emammal.si.edu/habitat-connectivity-minshan-mountains/content/l-wl15-s12a\n",
      "https://emammal.si.edu/habitat-connectivity-minshan-mountains/content/l-wl15-s13a\n",
      "https://emammal.si.edu/habitat-connectivity-minshan-mountains/content/l-wl15-s13b\n",
      "https://emammal.si.edu/habitat-connectivity-minshan-mountains/content/l-wl15-s14a\n",
      "https://emammal.si.edu/habitat-connectivity-minshan-mountains/content/l-wl15-s14b\n",
      "https://emammal.si.edu/habitat-connectivity-minshan-mountains/content/l-wl15-s15a\n",
      "https://emammal.si.edu/habitat-connectivity-minshan-mountains/content/l-wl15-s16a\n",
      "https://emammal.si.edu/habitat-connectivity-minshan-mountains/content/l-wl15-t11a\n",
      "https://emammal.si.edu/habitat-connectivity-minshan-mountains/content/l-wl15-t11b\n",
      "https://emammal.si.edu/habitat-connectivity-minshan-mountains/content/l-wl15-t11c\n",
      "https://emammal.si.edu/habitat-connectivity-minshan-mountains/content/l-wl15-t12a\n",
      "https://emammal.si.edu/habitat-connectivity-minshan-mountains/content/l-wl15-t13a\n",
      "https://emammal.si.edu/habitat-connectivity-minshan-mountains/content/l-wl15-t15a\n",
      "https://emammal.si.edu/habitat-connectivity-minshan-mountains/content/l-wl15-t16a\n",
      "https://emammal.si.edu/habitat-connectivity-minshan-mountains/content/l-wl15-u11a\n",
      "https://emammal.si.edu/habitat-connectivity-minshan-mountains/content/l-wl15-u12a\n",
      "https://emammal.si.edu/habitat-connectivity-minshan-mountains/content/l-wl15-u13a\n",
      "https://emammal.si.edu/habitat-connectivity-minshan-mountains/content/l-wl15-u14a\n",
      "https://emammal.si.edu/habitat-connectivity-minshan-mountains/content/l-wl15-u15a\n",
      "https://emammal.si.edu/habitat-connectivity-minshan-mountains/content/l-wl15-v12a\n",
      "https://emammal.si.edu/habitat-connectivity-minshan-mountains/content/l-wl15-v14a\n",
      "https://emammal.si.edu/habitat-connectivity-minshan-mountains/content/l-wl15-v15a\n",
      "https://emammal.si.edu/habitat-connectivity-minshan-mountains/content/l-wl15-w15a\n",
      "https://emammal.si.edu/habitat-connectivity-minshan-mountains/content/l-wl15-w15b\n",
      "https://emammal.si.edu/habitat-connectivity-minshan-mountains/content/l-wl16-b15a\n",
      "https://emammal.si.edu/habitat-connectivity-minshan-mountains/content/l-wl16-b18a\n",
      "https://emammal.si.edu/habitat-connectivity-minshan-mountains/content/l-wl16-c15a\n",
      "https://emammal.si.edu/habitat-connectivity-minshan-mountains/content/l-wl16-c16a\n",
      "https://emammal.si.edu/habitat-connectivity-minshan-mountains/content/l-wl16-c23a\n",
      "https://emammal.si.edu/habitat-connectivity-minshan-mountains/content/l-wl16-c23b\n",
      "https://emammal.si.edu/habitat-connectivity-minshan-mountains/content/l-wl16-c24a\n",
      "https://emammal.si.edu/habitat-connectivity-minshan-mountains/content/l-wl16-d15a\n",
      "https://emammal.si.edu/habitat-connectivity-minshan-mountains/content/l-wl16-d16a\n",
      "https://emammal.si.edu/habitat-connectivity-minshan-mountains/content/l-wl16-d22a\n",
      "https://emammal.si.edu/habitat-connectivity-minshan-mountains/content/l-wl16-d23a\n",
      "https://emammal.si.edu/habitat-connectivity-minshan-mountains/content/l-wl16-e04a\n",
      "https://emammal.si.edu/habitat-connectivity-minshan-mountains/content/l-wl16-e05a\n",
      "https://emammal.si.edu/habitat-connectivity-minshan-mountains/content/l-wl16-e05b\n",
      "https://emammal.si.edu/habitat-connectivity-minshan-mountains/content/l-wl16-e12a\n",
      "https://emammal.si.edu/habitat-connectivity-minshan-mountains/content/l-wl16-f01a\n",
      "https://emammal.si.edu/habitat-connectivity-minshan-mountains/content/l-wl16-f03a\n",
      "https://emammal.si.edu/habitat-connectivity-minshan-mountains/content/l-wl16-f05a\n",
      "https://emammal.si.edu/habitat-connectivity-minshan-mountains/content/l-wl16-f08a\n",
      "https://emammal.si.edu/habitat-connectivity-minshan-mountains/content/l-wl16-f20a\n",
      "https://emammal.si.edu/habitat-connectivity-minshan-mountains/content/l-wl16-f21a\n",
      "https://emammal.si.edu/habitat-connectivity-minshan-mountains/content/l-wl16-f22a\n",
      "https://emammal.si.edu/habitat-connectivity-minshan-mountains/content/l-wl16-f22b\n",
      "https://emammal.si.edu/habitat-connectivity-minshan-mountains/content/l-wl16-f23a\n",
      "https://emammal.si.edu/habitat-connectivity-minshan-mountains/content/l-wl16-f24a\n",
      "https://emammal.si.edu/habitat-connectivity-minshan-mountains/content/l-wl16-f25a\n",
      "https://emammal.si.edu/habitat-connectivity-minshan-mountains/content/l-wl16-g01a\n",
      "https://emammal.si.edu/habitat-connectivity-minshan-mountains/content/l-wl16-g02a\n",
      "https://emammal.si.edu/habitat-connectivity-minshan-mountains/content/l-wl16-g07a\n",
      "https://emammal.si.edu/habitat-connectivity-minshan-mountains/content/l-wl16-g16a\n",
      "https://emammal.si.edu/habitat-connectivity-minshan-mountains/content/l-wl16-g16b\n",
      "https://emammal.si.edu/habitat-connectivity-minshan-mountains/content/l-wl16-g17a\n",
      "https://emammal.si.edu/habitat-connectivity-minshan-mountains/content/l-wl16-g17b\n",
      "https://emammal.si.edu/habitat-connectivity-minshan-mountains/content/l-wl16-g20a\n",
      "https://emammal.si.edu/habitat-connectivity-minshan-mountains/content/l-wl16-g20b\n",
      "https://emammal.si.edu/habitat-connectivity-minshan-mountains/content/l-wl16-g21a\n",
      "https://emammal.si.edu/habitat-connectivity-minshan-mountains/content/l-wl16-g21b\n",
      "https://emammal.si.edu/habitat-connectivity-minshan-mountains/content/l-wl16-g23a\n",
      "https://emammal.si.edu/habitat-connectivity-minshan-mountains/content/l-wl16-g25a\n",
      "https://emammal.si.edu/habitat-connectivity-minshan-mountains/content/l-wl16-g25b\n",
      "https://emammal.si.edu/habitat-connectivity-minshan-mountains/content/l-wl16-h03a\n",
      "https://emammal.si.edu/habitat-connectivity-minshan-mountains/content/l-wl16-h04a\n",
      "https://emammal.si.edu/habitat-connectivity-minshan-mountains/content/l-wl16-h06a\n",
      "https://emammal.si.edu/habitat-connectivity-minshan-mountains/content/l-wl16-h20a\n",
      "https://emammal.si.edu/habitat-connectivity-minshan-mountains/content/l-wl16-h20b\n",
      "https://emammal.si.edu/habitat-connectivity-minshan-mountains/content/l-wl16-h21a\n",
      "https://emammal.si.edu/habitat-connectivity-minshan-mountains/content/l-wl16-h23a\n",
      "https://emammal.si.edu/habitat-connectivity-minshan-mountains/content/l-wl16-h23b\n",
      "https://emammal.si.edu/habitat-connectivity-minshan-mountains/content/l-wl16-h24a\n",
      "https://emammal.si.edu/habitat-connectivity-minshan-mountains/content/l-wl16-i03a\n",
      "https://emammal.si.edu/habitat-connectivity-minshan-mountains/content/l-wl16-i04a\n",
      "https://emammal.si.edu/habitat-connectivity-minshan-mountains/content/l-wl16-i07a\n",
      "https://emammal.si.edu/habitat-connectivity-minshan-mountains/content/l-wl16-i18a\n",
      "https://emammal.si.edu/habitat-connectivity-minshan-mountains/content/l-wl16-i19a\n",
      "https://emammal.si.edu/habitat-connectivity-minshan-mountains/content/l-wl16-j04a\n",
      "https://emammal.si.edu/habitat-connectivity-minshan-mountains/content/l-wl16-j05a\n",
      "https://emammal.si.edu/habitat-connectivity-minshan-mountains/content/l-wl16-j07a\n",
      "https://emammal.si.edu/habitat-connectivity-minshan-mountains/content/l-wl16-j08a\n",
      "https://emammal.si.edu/habitat-connectivity-minshan-mountains/content/l-wl16-j13a\n",
      "https://emammal.si.edu/habitat-connectivity-minshan-mountains/content/l-wl16-j13b\n",
      "https://emammal.si.edu/habitat-connectivity-minshan-mountains/content/l-wl16-j17a\n",
      "https://emammal.si.edu/habitat-connectivity-minshan-mountains/content/l-wl16-j18a\n",
      "https://emammal.si.edu/habitat-connectivity-minshan-mountains/content/l-wl16-j18b\n",
      "https://emammal.si.edu/habitat-connectivity-minshan-mountains/content/l-wl16-j19a\n",
      "https://emammal.si.edu/habitat-connectivity-minshan-mountains/content/l-wl16-k05a\n",
      "https://emammal.si.edu/habitat-connectivity-minshan-mountains/content/l-wl16-k06a\n",
      "https://emammal.si.edu/habitat-connectivity-minshan-mountains/content/l-wl16-k08a\n",
      "https://emammal.si.edu/habitat-connectivity-minshan-mountains/content/l-wl16-k13a\n"
     ]
    },
    {
     "name": "stdout",
     "output_type": "stream",
     "text": [
      "https://emammal.si.edu/habitat-connectivity-minshan-mountains/content/l-wl16-k15a\n",
      "https://emammal.si.edu/habitat-connectivity-minshan-mountains/content/l-wl16-k18a\n",
      "https://emammal.si.edu/habitat-connectivity-minshan-mountains/content/l-wl16-k21a\n",
      "https://emammal.si.edu/habitat-connectivity-minshan-mountains/content/l-wl16-l08a\n",
      "https://emammal.si.edu/habitat-connectivity-minshan-mountains/content/l-wl16-l11a\n",
      "https://emammal.si.edu/habitat-connectivity-minshan-mountains/content/l-wl16-l12a\n",
      "https://emammal.si.edu/habitat-connectivity-minshan-mountains/content/l-wl16-l16a\n",
      "https://emammal.si.edu/habitat-connectivity-minshan-mountains/content/l-wl16-l19a\n",
      "https://emammal.si.edu/habitat-connectivity-minshan-mountains/content/l-wl16-l20a\n",
      "https://emammal.si.edu/habitat-connectivity-minshan-mountains/content/l-wl16-l22a\n",
      "https://emammal.si.edu/habitat-connectivity-minshan-mountains/content/l-wl16-l23a\n",
      "https://emammal.si.edu/habitat-connectivity-minshan-mountains/content/l-wl16-m06a\n",
      "https://emammal.si.edu/habitat-connectivity-minshan-mountains/content/l-wl16-m10a\n",
      "https://emammal.si.edu/habitat-connectivity-minshan-mountains/content/l-wl16-m16a\n",
      "https://emammal.si.edu/habitat-connectivity-minshan-mountains/content/l-wl16-n07a\n",
      "https://emammal.si.edu/habitat-connectivity-minshan-mountains/content/l-wl16-n10a\n",
      "https://emammal.si.edu/habitat-connectivity-minshan-mountains/content/l-wl16-o05a\n",
      "https://emammal.si.edu/habitat-connectivity-minshan-mountains/content/l-wl16-o06a\n",
      "https://emammal.si.edu/habitat-connectivity-minshan-mountains/content/l-wl16-o07a\n",
      "https://emammal.si.edu/habitat-connectivity-minshan-mountains/content/l-wl16-o08a\n",
      "https://emammal.si.edu/habitat-connectivity-minshan-mountains/content/l-wl16-p05a\n",
      "https://emammal.si.edu/habitat-connectivity-minshan-mountains/content/l-wl16-p06a\n",
      "https://emammal.si.edu/habitat-connectivity-minshan-mountains/content/l-wl16-p07a\n",
      "https://emammal.si.edu/habitat-connectivity-minshan-mountains/content/l-wl16-p10a\n",
      "https://emammal.si.edu/habitat-connectivity-minshan-mountains/content/l-wl16-q11a\n"
     ]
    },
    {
     "name": "stderr",
     "output_type": "stream",
     "text": [
      "/home/casey/anaconda3/lib/python3.6/site-packages/ipykernel_launcher.py:1: SettingWithCopyWarning: \n",
      "A value is trying to be set on a copy of a slice from a DataFrame.\n",
      "Try using .loc[row_indexer,col_indexer] = value instead\n",
      "\n",
      "See the caveats in the documentation: http://pandas.pydata.org/pandas-docs/stable/indexing.html#indexing-view-versus-copy\n",
      "  \"\"\"Entry point for launching an IPython kernel.\n"
     ]
    }
   ],
   "source": [
    "wanglang['Camera.Deployment.ID1'] = wanglang.apply(extract_deploymentid,axis=1, args=(payload,project_url))"
   ]
  },
  {
   "cell_type": "code",
   "execution_count": 39,
   "metadata": {
    "collapsed": true
   },
   "outputs": [
    {
     "name": "stdout",
     "output_type": "stream",
     "text": [
      "https://emammal.si.edu/habitat-connectivity-minshan-mountains/content/l-wl14-j18a\n",
      "https://emammal.si.edu/habitat-connectivity-minshan-mountains/content/l-wl14-k16a\n",
      "https://emammal.si.edu/habitat-connectivity-minshan-mountains/content/l-wl14-k17a\n",
      "https://emammal.si.edu/habitat-connectivity-minshan-mountains/content/l-wl14-l10a\n",
      "https://emammal.si.edu/habitat-connectivity-minshan-mountains/content/l-wl14-l14a\n",
      "https://emammal.si.edu/habitat-connectivity-minshan-mountains/content/l-wl14-l15a\n",
      "https://emammal.si.edu/habitat-connectivity-minshan-mountains/content/l-wl14-l15b\n",
      "https://emammal.si.edu/habitat-connectivity-minshan-mountains/content/l-wl14-n08a\n",
      "https://emammal.si.edu/habitat-connectivity-minshan-mountains/content/l-wl14-n09a\n",
      "https://emammal.si.edu/habitat-connectivity-minshan-mountains/content/l-wl14-o09a\n",
      "https://emammal.si.edu/habitat-connectivity-minshan-mountains/content/l-wl14-o09b\n",
      "https://emammal.si.edu/habitat-connectivity-minshan-mountains/content/l-wl14-o11a\n",
      "https://emammal.si.edu/habitat-connectivity-minshan-mountains/content/l-wl14-o12a\n",
      "https://emammal.si.edu/habitat-connectivity-minshan-mountains/content/l-wl14-p09a\n",
      "https://emammal.si.edu/habitat-connectivity-minshan-mountains/content/l-wl14-p09b\n",
      "https://emammal.si.edu/habitat-connectivity-minshan-mountains/content/l-wl14-p12a\n",
      "https://emammal.si.edu/habitat-connectivity-minshan-mountains/content/l-wl14-p12b\n",
      "https://emammal.si.edu/habitat-connectivity-minshan-mountains/content/l-wl14-q10a\n",
      "https://emammal.si.edu/habitat-connectivity-minshan-mountains/content/l-wl14-q11a\n",
      "https://emammal.si.edu/habitat-connectivity-minshan-mountains/content/l-wl14-q12a\n",
      "https://emammal.si.edu/habitat-connectivity-minshan-mountains/content/l-wl14-q12b\n",
      "https://emammal.si.edu/habitat-connectivity-minshan-mountains/content/l-wl14-r10a\n",
      "https://emammal.si.edu/habitat-connectivity-minshan-mountains/content/l-wl14-r11a\n",
      "https://emammal.si.edu/habitat-connectivity-minshan-mountains/content/l-wl14-r12a\n",
      "https://emammal.si.edu/habitat-connectivity-minshan-mountains/content/l-wl14-s10a\n",
      "https://emammal.si.edu/habitat-connectivity-minshan-mountains/content/l-wl14-s11a\n",
      "https://emammal.si.edu/habitat-connectivity-minshan-mountains/content/l-wl14-s14a\n",
      "https://emammal.si.edu/habitat-connectivity-minshan-mountains/content/l-wl14-t14a\n",
      "https://emammal.si.edu/habitat-connectivity-minshan-mountains/content/l-wl15-d15a\n",
      "https://emammal.si.edu/habitat-connectivity-minshan-mountains/content/l-wl15-e09a\n",
      "https://emammal.si.edu/habitat-connectivity-minshan-mountains/content/l-wl15-e10a\n",
      "https://emammal.si.edu/habitat-connectivity-minshan-mountains/content/l-wl15-e11a\n",
      "https://emammal.si.edu/habitat-connectivity-minshan-mountains/content/l-wl15-e13a\n",
      "https://emammal.si.edu/habitat-connectivity-minshan-mountains/content/l-wl15-e13b\n",
      "https://emammal.si.edu/habitat-connectivity-minshan-mountains/content/l-wl15-e14a\n",
      "https://emammal.si.edu/habitat-connectivity-minshan-mountains/content/l-wl15-f06a\n",
      "https://emammal.si.edu/habitat-connectivity-minshan-mountains/content/l-wl15-f06b\n",
      "https://emammal.si.edu/habitat-connectivity-minshan-mountains/content/l-wl15-f07a\n",
      "https://emammal.si.edu/habitat-connectivity-minshan-mountains/content/l-wl15-f09a\n",
      "https://emammal.si.edu/habitat-connectivity-minshan-mountains/content/l-wl15-f09b\n",
      "https://emammal.si.edu/habitat-connectivity-minshan-mountains/content/l-wl15-f10a\n",
      "https://emammal.si.edu/habitat-connectivity-minshan-mountains/content/l-wl15-g06a\n",
      "https://emammal.si.edu/habitat-connectivity-minshan-mountains/content/l-wl15-g06b\n",
      "https://emammal.si.edu/habitat-connectivity-minshan-mountains/content/l-wl15-g08a\n",
      "https://emammal.si.edu/habitat-connectivity-minshan-mountains/content/l-wl15-g08b\n",
      "https://emammal.si.edu/habitat-connectivity-minshan-mountains/content/l-wl15-h03a\n",
      "https://emammal.si.edu/habitat-connectivity-minshan-mountains/content/l-wl15-h05a\n",
      "https://emammal.si.edu/habitat-connectivity-minshan-mountains/content/l-wl15-h06a\n",
      "https://emammal.si.edu/habitat-connectivity-minshan-mountains/content/l-wl15-i06a\n",
      "https://emammal.si.edu/habitat-connectivity-minshan-mountains/content/l-wl15-j02b\n",
      "https://emammal.si.edu/habitat-connectivity-minshan-mountains/content/l-wl15-j05a\n",
      "https://emammal.si.edu/habitat-connectivity-minshan-mountains/content/l-wl15-j06a\n",
      "https://emammal.si.edu/habitat-connectivity-minshan-mountains/content/l-wl15-j13a\n",
      "https://emammal.si.edu/habitat-connectivity-minshan-mountains/content/l-wl15-j13b\n",
      "https://emammal.si.edu/habitat-connectivity-minshan-mountains/content/l-wl15-j19a\n",
      "https://emammal.si.edu/habitat-connectivity-minshan-mountains/content/l-wl15-j19b\n",
      "https://emammal.si.edu/habitat-connectivity-minshan-mountains/content/l-wl15-k07a\n",
      "https://emammal.si.edu/habitat-connectivity-minshan-mountains/content/l-wl15-k09a\n",
      "https://emammal.si.edu/habitat-connectivity-minshan-mountains/content/l-wl15-k09b\n",
      "https://emammal.si.edu/habitat-connectivity-minshan-mountains/content/l-wl15-k18a\n",
      "https://emammal.si.edu/habitat-connectivity-minshan-mountains/content/l-wl15-k19a\n",
      "https://emammal.si.edu/habitat-connectivity-minshan-mountains/content/l-wl15-k20a\n",
      "https://emammal.si.edu/habitat-connectivity-minshan-mountains/content/l-wl15-l06a\n",
      "https://emammal.si.edu/habitat-connectivity-minshan-mountains/content/l-wl15-l07a\n",
      "https://emammal.si.edu/habitat-connectivity-minshan-mountains/content/l-wl15-l08a\n",
      "https://emammal.si.edu/habitat-connectivity-minshan-mountains/content/l-wl15-l10a\n",
      "https://emammal.si.edu/habitat-connectivity-minshan-mountains/content/l-wl15-l13a\n",
      "https://emammal.si.edu/habitat-connectivity-minshan-mountains/content/l-wl15-l14a\n",
      "https://emammal.si.edu/habitat-connectivity-minshan-mountains/content/l-wl15-m06a\n",
      "https://emammal.si.edu/habitat-connectivity-minshan-mountains/content/l-wl15-m07a\n",
      "https://emammal.si.edu/habitat-connectivity-minshan-mountains/content/l-wl15-m08a\n",
      "https://emammal.si.edu/habitat-connectivity-minshan-mountains/content/l-wl15-m08b\n",
      "https://emammal.si.edu/habitat-connectivity-minshan-mountains/content/l-wl15-m09a\n",
      "https://emammal.si.edu/habitat-connectivity-minshan-mountains/content/l-wl15-m11a\n",
      "https://emammal.si.edu/habitat-connectivity-minshan-mountains/content/l-wl15-n06a\n",
      "https://emammal.si.edu/habitat-connectivity-minshan-mountains/content/l-wl15-n08a\n",
      "https://emammal.si.edu/habitat-connectivity-minshan-mountains/content/l-wl15-n10a\n",
      "https://emammal.si.edu/habitat-connectivity-minshan-mountains/content/l-wl15-n10b\n",
      "https://emammal.si.edu/habitat-connectivity-minshan-mountains/content/l-wl15-n11a\n",
      "https://emammal.si.edu/habitat-connectivity-minshan-mountains/content/l-wl15-o08a\n",
      "https://emammal.si.edu/habitat-connectivity-minshan-mountains/content/l-wl15-o08b\n",
      "https://emammal.si.edu/habitat-connectivity-minshan-mountains/content/l-wl15-o09a\n",
      "https://emammal.si.edu/habitat-connectivity-minshan-mountains/content/l-wl15-o10a\n",
      "https://emammal.si.edu/habitat-connectivity-minshan-mountains/content/l-wl15-o20a\n",
      "https://emammal.si.edu/habitat-connectivity-minshan-mountains/content/l-wl15-p08a\n",
      "https://emammal.si.edu/habitat-connectivity-minshan-mountains/content/l-wl15-p10a\n",
      "https://emammal.si.edu/habitat-connectivity-minshan-mountains/content/l-wl15-p10b\n",
      "https://emammal.si.edu/habitat-connectivity-minshan-mountains/content/l-wl15-p14a\n",
      "https://emammal.si.edu/habitat-connectivity-minshan-mountains/content/l-wl15-p17a\n",
      "https://emammal.si.edu/habitat-connectivity-minshan-mountains/content/l-wl15-p19a\n",
      "https://emammal.si.edu/habitat-connectivity-minshan-mountains/content/l-wl15-p20a\n",
      "https://emammal.si.edu/habitat-connectivity-minshan-mountains/content/l-wl15-q08a\n",
      "https://emammal.si.edu/habitat-connectivity-minshan-mountains/content/l-wl15-q09a\n",
      "https://emammal.si.edu/habitat-connectivity-minshan-mountains/content/l-wl15-q11a\n",
      "https://emammal.si.edu/habitat-connectivity-minshan-mountains/content/l-wl15-q14a\n",
      "https://emammal.si.edu/habitat-connectivity-minshan-mountains/content/l-wl15-q14b\n",
      "https://emammal.si.edu/habitat-connectivity-minshan-mountains/content/l-wl15-q15a\n",
      "https://emammal.si.edu/habitat-connectivity-minshan-mountains/content/l-wl15-q17a\n",
      "https://emammal.si.edu/habitat-connectivity-minshan-mountains/content/l-wl15-q17b\n",
      "https://emammal.si.edu/habitat-connectivity-minshan-mountains/content/l-wl15-q18a\n"
     ]
    },
    {
     "name": "stdout",
     "output_type": "stream",
     "text": [
      "https://emammal.si.edu/habitat-connectivity-minshan-mountains/content/l-wl15-r09a\n",
      "https://emammal.si.edu/habitat-connectivity-minshan-mountains/content/l-wl15-r11a\n",
      "https://emammal.si.edu/habitat-connectivity-minshan-mountains/content/l-wl15-r14a\n",
      "https://emammal.si.edu/habitat-connectivity-minshan-mountains/content/l-wl15-r15a\n",
      "https://emammal.si.edu/habitat-connectivity-minshan-mountains/content/l-wl15-r16a\n",
      "https://emammal.si.edu/habitat-connectivity-minshan-mountains/content/l-wl15-r17a\n",
      "https://emammal.si.edu/habitat-connectivity-minshan-mountains/content/l-wl15-r17b\n",
      "https://emammal.si.edu/habitat-connectivity-minshan-mountains/content/l-wl15-s11a\n",
      "https://emammal.si.edu/habitat-connectivity-minshan-mountains/content/l-wl15-s12a\n",
      "https://emammal.si.edu/habitat-connectivity-minshan-mountains/content/l-wl15-s13a\n",
      "https://emammal.si.edu/habitat-connectivity-minshan-mountains/content/l-wl15-s13b\n",
      "https://emammal.si.edu/habitat-connectivity-minshan-mountains/content/l-wl15-s14a\n",
      "https://emammal.si.edu/habitat-connectivity-minshan-mountains/content/l-wl15-s14b\n",
      "https://emammal.si.edu/habitat-connectivity-minshan-mountains/content/l-wl15-s15a\n",
      "https://emammal.si.edu/habitat-connectivity-minshan-mountains/content/l-wl15-s16a\n",
      "https://emammal.si.edu/habitat-connectivity-minshan-mountains/content/l-wl15-t11a\n",
      "https://emammal.si.edu/habitat-connectivity-minshan-mountains/content/l-wl15-t11b\n",
      "https://emammal.si.edu/habitat-connectivity-minshan-mountains/content/l-wl15-t11c\n",
      "https://emammal.si.edu/habitat-connectivity-minshan-mountains/content/l-wl15-t12a\n",
      "https://emammal.si.edu/habitat-connectivity-minshan-mountains/content/l-wl15-t13a\n",
      "https://emammal.si.edu/habitat-connectivity-minshan-mountains/content/l-wl15-t15a\n",
      "https://emammal.si.edu/habitat-connectivity-minshan-mountains/content/l-wl15-t16a\n",
      "https://emammal.si.edu/habitat-connectivity-minshan-mountains/content/l-wl15-u11a\n",
      "https://emammal.si.edu/habitat-connectivity-minshan-mountains/content/l-wl15-u12a\n",
      "https://emammal.si.edu/habitat-connectivity-minshan-mountains/content/l-wl15-u13a\n",
      "https://emammal.si.edu/habitat-connectivity-minshan-mountains/content/l-wl15-u14a\n",
      "https://emammal.si.edu/habitat-connectivity-minshan-mountains/content/l-wl15-u15a\n",
      "https://emammal.si.edu/habitat-connectivity-minshan-mountains/content/l-wl15-v12a\n",
      "https://emammal.si.edu/habitat-connectivity-minshan-mountains/content/l-wl15-v14a\n",
      "https://emammal.si.edu/habitat-connectivity-minshan-mountains/content/l-wl15-v15a\n",
      "https://emammal.si.edu/habitat-connectivity-minshan-mountains/content/l-wl15-w15a\n",
      "https://emammal.si.edu/habitat-connectivity-minshan-mountains/content/l-wl15-w15b\n",
      "https://emammal.si.edu/habitat-connectivity-minshan-mountains/content/l-wl16-b15a\n",
      "https://emammal.si.edu/habitat-connectivity-minshan-mountains/content/l-wl16-b18a\n",
      "https://emammal.si.edu/habitat-connectivity-minshan-mountains/content/l-wl16-c15a\n",
      "https://emammal.si.edu/habitat-connectivity-minshan-mountains/content/l-wl16-c16a\n",
      "https://emammal.si.edu/habitat-connectivity-minshan-mountains/content/l-wl16-c23a\n",
      "https://emammal.si.edu/habitat-connectivity-minshan-mountains/content/l-wl16-c23b\n",
      "https://emammal.si.edu/habitat-connectivity-minshan-mountains/content/l-wl16-c24a\n",
      "https://emammal.si.edu/habitat-connectivity-minshan-mountains/content/l-wl16-d15a\n",
      "https://emammal.si.edu/habitat-connectivity-minshan-mountains/content/l-wl16-d16a\n",
      "https://emammal.si.edu/habitat-connectivity-minshan-mountains/content/l-wl16-d22a\n",
      "https://emammal.si.edu/habitat-connectivity-minshan-mountains/content/l-wl16-d23a\n",
      "https://emammal.si.edu/habitat-connectivity-minshan-mountains/content/l-wl16-e04a\n",
      "https://emammal.si.edu/habitat-connectivity-minshan-mountains/content/l-wl16-e05a\n",
      "https://emammal.si.edu/habitat-connectivity-minshan-mountains/content/l-wl16-e05b\n",
      "https://emammal.si.edu/habitat-connectivity-minshan-mountains/content/l-wl16-e12a\n",
      "https://emammal.si.edu/habitat-connectivity-minshan-mountains/content/l-wl16-f01a\n",
      "https://emammal.si.edu/habitat-connectivity-minshan-mountains/content/l-wl16-f03a\n",
      "https://emammal.si.edu/habitat-connectivity-minshan-mountains/content/l-wl16-f05a\n",
      "https://emammal.si.edu/habitat-connectivity-minshan-mountains/content/l-wl16-f08a\n",
      "https://emammal.si.edu/habitat-connectivity-minshan-mountains/content/l-wl16-f20a\n",
      "https://emammal.si.edu/habitat-connectivity-minshan-mountains/content/l-wl16-f21a\n",
      "https://emammal.si.edu/habitat-connectivity-minshan-mountains/content/l-wl16-f22a\n",
      "https://emammal.si.edu/habitat-connectivity-minshan-mountains/content/l-wl16-f22b\n",
      "https://emammal.si.edu/habitat-connectivity-minshan-mountains/content/l-wl16-f23a\n",
      "https://emammal.si.edu/habitat-connectivity-minshan-mountains/content/l-wl16-f24a\n",
      "https://emammal.si.edu/habitat-connectivity-minshan-mountains/content/l-wl16-f25a\n",
      "https://emammal.si.edu/habitat-connectivity-minshan-mountains/content/l-wl16-g01a\n",
      "https://emammal.si.edu/habitat-connectivity-minshan-mountains/content/l-wl16-g02a\n",
      "https://emammal.si.edu/habitat-connectivity-minshan-mountains/content/l-wl16-g07a\n",
      "https://emammal.si.edu/habitat-connectivity-minshan-mountains/content/l-wl16-g16a\n",
      "https://emammal.si.edu/habitat-connectivity-minshan-mountains/content/l-wl16-g16b\n",
      "https://emammal.si.edu/habitat-connectivity-minshan-mountains/content/l-wl16-g17a\n",
      "https://emammal.si.edu/habitat-connectivity-minshan-mountains/content/l-wl16-g17b\n",
      "https://emammal.si.edu/habitat-connectivity-minshan-mountains/content/l-wl16-g20a\n",
      "https://emammal.si.edu/habitat-connectivity-minshan-mountains/content/l-wl16-g20b\n",
      "https://emammal.si.edu/habitat-connectivity-minshan-mountains/content/l-wl16-g21a\n",
      "https://emammal.si.edu/habitat-connectivity-minshan-mountains/content/l-wl16-g21b\n",
      "https://emammal.si.edu/habitat-connectivity-minshan-mountains/content/l-wl16-g23a\n",
      "https://emammal.si.edu/habitat-connectivity-minshan-mountains/content/l-wl16-g25a\n",
      "https://emammal.si.edu/habitat-connectivity-minshan-mountains/content/l-wl16-g25b\n",
      "https://emammal.si.edu/habitat-connectivity-minshan-mountains/content/l-wl16-h03a\n",
      "https://emammal.si.edu/habitat-connectivity-minshan-mountains/content/l-wl16-h04a\n",
      "https://emammal.si.edu/habitat-connectivity-minshan-mountains/content/l-wl16-h06a\n",
      "https://emammal.si.edu/habitat-connectivity-minshan-mountains/content/l-wl16-h20a\n",
      "https://emammal.si.edu/habitat-connectivity-minshan-mountains/content/l-wl16-h20b\n",
      "https://emammal.si.edu/habitat-connectivity-minshan-mountains/content/l-wl16-h21a\n",
      "https://emammal.si.edu/habitat-connectivity-minshan-mountains/content/l-wl16-h23a\n",
      "https://emammal.si.edu/habitat-connectivity-minshan-mountains/content/l-wl16-h23b\n",
      "https://emammal.si.edu/habitat-connectivity-minshan-mountains/content/l-wl16-h24a\n",
      "https://emammal.si.edu/habitat-connectivity-minshan-mountains/content/l-wl16-i03a\n",
      "https://emammal.si.edu/habitat-connectivity-minshan-mountains/content/l-wl16-i04a\n",
      "https://emammal.si.edu/habitat-connectivity-minshan-mountains/content/l-wl16-i07a\n",
      "https://emammal.si.edu/habitat-connectivity-minshan-mountains/content/l-wl16-i18a\n",
      "https://emammal.si.edu/habitat-connectivity-minshan-mountains/content/l-wl16-i19a\n",
      "https://emammal.si.edu/habitat-connectivity-minshan-mountains/content/l-wl16-j04a\n",
      "https://emammal.si.edu/habitat-connectivity-minshan-mountains/content/l-wl16-j05a\n",
      "https://emammal.si.edu/habitat-connectivity-minshan-mountains/content/l-wl16-j07a\n",
      "https://emammal.si.edu/habitat-connectivity-minshan-mountains/content/l-wl16-j08a\n",
      "https://emammal.si.edu/habitat-connectivity-minshan-mountains/content/l-wl16-j13a\n",
      "https://emammal.si.edu/habitat-connectivity-minshan-mountains/content/l-wl16-j13b\n",
      "https://emammal.si.edu/habitat-connectivity-minshan-mountains/content/l-wl16-j17a\n",
      "https://emammal.si.edu/habitat-connectivity-minshan-mountains/content/l-wl16-j18a\n",
      "https://emammal.si.edu/habitat-connectivity-minshan-mountains/content/l-wl16-j18b\n",
      "https://emammal.si.edu/habitat-connectivity-minshan-mountains/content/l-wl16-j19a\n",
      "https://emammal.si.edu/habitat-connectivity-minshan-mountains/content/l-wl16-k05a\n",
      "https://emammal.si.edu/habitat-connectivity-minshan-mountains/content/l-wl16-k06a\n",
      "https://emammal.si.edu/habitat-connectivity-minshan-mountains/content/l-wl16-k08a\n",
      "https://emammal.si.edu/habitat-connectivity-minshan-mountains/content/l-wl16-k13a\n"
     ]
    },
    {
     "name": "stdout",
     "output_type": "stream",
     "text": [
      "https://emammal.si.edu/habitat-connectivity-minshan-mountains/content/l-wl16-k15a\n",
      "https://emammal.si.edu/habitat-connectivity-minshan-mountains/content/l-wl16-k18a\n",
      "https://emammal.si.edu/habitat-connectivity-minshan-mountains/content/l-wl16-k21a\n",
      "https://emammal.si.edu/habitat-connectivity-minshan-mountains/content/l-wl16-l08a\n",
      "https://emammal.si.edu/habitat-connectivity-minshan-mountains/content/l-wl16-l11a\n",
      "https://emammal.si.edu/habitat-connectivity-minshan-mountains/content/l-wl16-l12a\n",
      "https://emammal.si.edu/habitat-connectivity-minshan-mountains/content/l-wl16-l16a\n",
      "https://emammal.si.edu/habitat-connectivity-minshan-mountains/content/l-wl16-l19a\n",
      "https://emammal.si.edu/habitat-connectivity-minshan-mountains/content/l-wl16-l20a\n",
      "https://emammal.si.edu/habitat-connectivity-minshan-mountains/content/l-wl16-l22a\n",
      "https://emammal.si.edu/habitat-connectivity-minshan-mountains/content/l-wl16-l23a\n",
      "https://emammal.si.edu/habitat-connectivity-minshan-mountains/content/l-wl16-m06a\n",
      "https://emammal.si.edu/habitat-connectivity-minshan-mountains/content/l-wl16-m10a\n",
      "https://emammal.si.edu/habitat-connectivity-minshan-mountains/content/l-wl16-m16a\n",
      "https://emammal.si.edu/habitat-connectivity-minshan-mountains/content/l-wl16-n07a\n",
      "https://emammal.si.edu/habitat-connectivity-minshan-mountains/content/l-wl16-n10a\n",
      "https://emammal.si.edu/habitat-connectivity-minshan-mountains/content/l-wl16-o05a\n",
      "https://emammal.si.edu/habitat-connectivity-minshan-mountains/content/l-wl16-o06a\n",
      "https://emammal.si.edu/habitat-connectivity-minshan-mountains/content/l-wl16-o07a\n",
      "https://emammal.si.edu/habitat-connectivity-minshan-mountains/content/l-wl16-o08a\n",
      "https://emammal.si.edu/habitat-connectivity-minshan-mountains/content/l-wl16-p05a\n",
      "https://emammal.si.edu/habitat-connectivity-minshan-mountains/content/l-wl16-p06a\n",
      "https://emammal.si.edu/habitat-connectivity-minshan-mountains/content/l-wl16-p07a\n",
      "https://emammal.si.edu/habitat-connectivity-minshan-mountains/content/l-wl16-p10a\n",
      "https://emammal.si.edu/habitat-connectivity-minshan-mountains/content/l-wl16-q11a\n"
     ]
    }
   ],
   "source": [
    "wolong['Camera.Deployment.ID1'] = wanglang.apply(extract_deploymentid,axis=1, args=(payload,project_url))"
   ]
  },
  {
   "cell_type": "code",
   "execution_count": 40,
   "metadata": {},
   "outputs": [
    {
     "name": "stdout",
     "output_type": "stream",
     "text": [
      "Stored 'wolong' (DataFrame)\n"
     ]
    }
   ],
   "source": [
    "%store wolong"
   ]
  },
  {
   "cell_type": "code",
   "execution_count": 41,
   "metadata": {},
   "outputs": [
    {
     "name": "stdout",
     "output_type": "stream",
     "text": [
      "Stored 'wanglang' (DataFrame)\n"
     ]
    }
   ],
   "source": [
    "%store wanglang"
   ]
  },
  {
   "cell_type": "code",
   "execution_count": 42,
   "metadata": {},
   "outputs": [
    {
     "name": "stdout",
     "output_type": "stream",
     "text": [
      "Stored 'all_deployments' (DataFrame)\n"
     ]
    }
   ],
   "source": [
    "%store all_deployments"
   ]
  },
  {
   "cell_type": "code",
   "execution_count": 43,
   "metadata": {},
   "outputs": [
    {
     "name": "stdout",
     "output_type": "stream",
     "text": [
      "Stored 'xiaohegou' (DataFrame)\n"
     ]
    }
   ],
   "source": [
    "%store xiaohegou"
   ]
  },
  {
   "cell_type": "code",
   "execution_count": null,
   "metadata": {
    "collapsed": true
   },
   "outputs": [
    {
     "name": "stdout",
     "output_type": "stream",
     "text": [
      "https://emammal.si.edu/habitat-connectivity-minshan-mountains/content/l-wl14-j18a\n",
      "https://emammal.si.edu/habitat-connectivity-minshan-mountains/content/l-wl14-k16a\n",
      "https://emammal.si.edu/habitat-connectivity-minshan-mountains/content/l-wl14-k17a\n",
      "https://emammal.si.edu/habitat-connectivity-minshan-mountains/content/l-wl14-l10a\n",
      "https://emammal.si.edu/habitat-connectivity-minshan-mountains/content/l-wl14-l14a\n",
      "https://emammal.si.edu/habitat-connectivity-minshan-mountains/content/l-wl14-l15a\n",
      "https://emammal.si.edu/habitat-connectivity-minshan-mountains/content/l-wl14-l15b\n",
      "https://emammal.si.edu/habitat-connectivity-minshan-mountains/content/l-wl14-n08a\n",
      "https://emammal.si.edu/habitat-connectivity-minshan-mountains/content/l-wl14-n09a\n",
      "https://emammal.si.edu/habitat-connectivity-minshan-mountains/content/l-wl14-o09a\n",
      "https://emammal.si.edu/habitat-connectivity-minshan-mountains/content/l-wl14-o09b\n",
      "https://emammal.si.edu/habitat-connectivity-minshan-mountains/content/l-wl14-o11a\n",
      "https://emammal.si.edu/habitat-connectivity-minshan-mountains/content/l-wl14-o12a\n",
      "https://emammal.si.edu/habitat-connectivity-minshan-mountains/content/l-wl14-p09a\n",
      "https://emammal.si.edu/habitat-connectivity-minshan-mountains/content/l-wl14-p09b\n",
      "https://emammal.si.edu/habitat-connectivity-minshan-mountains/content/l-wl14-p12a\n",
      "https://emammal.si.edu/habitat-connectivity-minshan-mountains/content/l-wl14-p12b\n",
      "https://emammal.si.edu/habitat-connectivity-minshan-mountains/content/l-wl14-q10a\n",
      "https://emammal.si.edu/habitat-connectivity-minshan-mountains/content/l-wl14-q11a\n",
      "https://emammal.si.edu/habitat-connectivity-minshan-mountains/content/l-wl14-q12a\n",
      "https://emammal.si.edu/habitat-connectivity-minshan-mountains/content/l-wl14-q12b\n",
      "https://emammal.si.edu/habitat-connectivity-minshan-mountains/content/l-wl14-r10a\n",
      "https://emammal.si.edu/habitat-connectivity-minshan-mountains/content/l-wl14-r11a\n",
      "https://emammal.si.edu/habitat-connectivity-minshan-mountains/content/l-wl14-r12a\n",
      "https://emammal.si.edu/habitat-connectivity-minshan-mountains/content/l-wl14-s10a\n",
      "https://emammal.si.edu/habitat-connectivity-minshan-mountains/content/l-wl14-s11a\n",
      "https://emammal.si.edu/habitat-connectivity-minshan-mountains/content/l-wl14-s14a\n",
      "https://emammal.si.edu/habitat-connectivity-minshan-mountains/content/l-wl14-t14a\n",
      "https://emammal.si.edu/habitat-connectivity-minshan-mountains/content/l-wl15-d15a\n",
      "https://emammal.si.edu/habitat-connectivity-minshan-mountains/content/l-wl15-e09a\n",
      "https://emammal.si.edu/habitat-connectivity-minshan-mountains/content/l-wl15-e10a\n",
      "https://emammal.si.edu/habitat-connectivity-minshan-mountains/content/l-wl15-e11a\n",
      "https://emammal.si.edu/habitat-connectivity-minshan-mountains/content/l-wl15-e13a\n",
      "https://emammal.si.edu/habitat-connectivity-minshan-mountains/content/l-wl15-e13b\n",
      "https://emammal.si.edu/habitat-connectivity-minshan-mountains/content/l-wl15-e14a\n",
      "https://emammal.si.edu/habitat-connectivity-minshan-mountains/content/l-wl15-f06a\n",
      "https://emammal.si.edu/habitat-connectivity-minshan-mountains/content/l-wl15-f06b\n",
      "https://emammal.si.edu/habitat-connectivity-minshan-mountains/content/l-wl15-f07a\n",
      "https://emammal.si.edu/habitat-connectivity-minshan-mountains/content/l-wl15-f09a\n",
      "https://emammal.si.edu/habitat-connectivity-minshan-mountains/content/l-wl15-f09b\n",
      "https://emammal.si.edu/habitat-connectivity-minshan-mountains/content/l-wl15-f10a\n",
      "https://emammal.si.edu/habitat-connectivity-minshan-mountains/content/l-wl15-g06a\n",
      "https://emammal.si.edu/habitat-connectivity-minshan-mountains/content/l-wl15-g06b\n",
      "https://emammal.si.edu/habitat-connectivity-minshan-mountains/content/l-wl15-g08a\n",
      "https://emammal.si.edu/habitat-connectivity-minshan-mountains/content/l-wl15-g08b\n",
      "https://emammal.si.edu/habitat-connectivity-minshan-mountains/content/l-wl15-h03a\n",
      "https://emammal.si.edu/habitat-connectivity-minshan-mountains/content/l-wl15-h05a\n",
      "https://emammal.si.edu/habitat-connectivity-minshan-mountains/content/l-wl15-h06a\n",
      "https://emammal.si.edu/habitat-connectivity-minshan-mountains/content/l-wl15-i06a\n",
      "https://emammal.si.edu/habitat-connectivity-minshan-mountains/content/l-wl15-j02b\n",
      "https://emammal.si.edu/habitat-connectivity-minshan-mountains/content/l-wl15-j05a\n",
      "https://emammal.si.edu/habitat-connectivity-minshan-mountains/content/l-wl15-j06a\n",
      "https://emammal.si.edu/habitat-connectivity-minshan-mountains/content/l-wl15-j13a\n",
      "https://emammal.si.edu/habitat-connectivity-minshan-mountains/content/l-wl15-j13b\n",
      "https://emammal.si.edu/habitat-connectivity-minshan-mountains/content/l-wl15-j19a\n",
      "https://emammal.si.edu/habitat-connectivity-minshan-mountains/content/l-wl15-j19b\n",
      "https://emammal.si.edu/habitat-connectivity-minshan-mountains/content/l-wl15-k07a\n",
      "https://emammal.si.edu/habitat-connectivity-minshan-mountains/content/l-wl15-k09a\n",
      "https://emammal.si.edu/habitat-connectivity-minshan-mountains/content/l-wl15-k09b\n",
      "https://emammal.si.edu/habitat-connectivity-minshan-mountains/content/l-wl15-k18a\n",
      "https://emammal.si.edu/habitat-connectivity-minshan-mountains/content/l-wl15-k19a\n",
      "https://emammal.si.edu/habitat-connectivity-minshan-mountains/content/l-wl15-k20a\n",
      "https://emammal.si.edu/habitat-connectivity-minshan-mountains/content/l-wl15-l06a\n",
      "https://emammal.si.edu/habitat-connectivity-minshan-mountains/content/l-wl15-l07a\n",
      "https://emammal.si.edu/habitat-connectivity-minshan-mountains/content/l-wl15-l08a\n",
      "https://emammal.si.edu/habitat-connectivity-minshan-mountains/content/l-wl15-l10a\n",
      "https://emammal.si.edu/habitat-connectivity-minshan-mountains/content/l-wl15-l13a\n",
      "https://emammal.si.edu/habitat-connectivity-minshan-mountains/content/l-wl15-l14a\n",
      "https://emammal.si.edu/habitat-connectivity-minshan-mountains/content/l-wl15-m06a\n",
      "https://emammal.si.edu/habitat-connectivity-minshan-mountains/content/l-wl15-m07a\n",
      "https://emammal.si.edu/habitat-connectivity-minshan-mountains/content/l-wl15-m08a\n",
      "https://emammal.si.edu/habitat-connectivity-minshan-mountains/content/l-wl15-m08b\n",
      "https://emammal.si.edu/habitat-connectivity-minshan-mountains/content/l-wl15-m09a\n",
      "https://emammal.si.edu/habitat-connectivity-minshan-mountains/content/l-wl15-m11a\n",
      "https://emammal.si.edu/habitat-connectivity-minshan-mountains/content/l-wl15-n06a\n",
      "https://emammal.si.edu/habitat-connectivity-minshan-mountains/content/l-wl15-n08a\n",
      "https://emammal.si.edu/habitat-connectivity-minshan-mountains/content/l-wl15-n10a\n",
      "https://emammal.si.edu/habitat-connectivity-minshan-mountains/content/l-wl15-n10b\n",
      "https://emammal.si.edu/habitat-connectivity-minshan-mountains/content/l-wl15-n11a\n",
      "https://emammal.si.edu/habitat-connectivity-minshan-mountains/content/l-wl15-o08a\n",
      "https://emammal.si.edu/habitat-connectivity-minshan-mountains/content/l-wl15-o08b\n",
      "https://emammal.si.edu/habitat-connectivity-minshan-mountains/content/l-wl15-o09a\n",
      "https://emammal.si.edu/habitat-connectivity-minshan-mountains/content/l-wl15-o10a\n",
      "https://emammal.si.edu/habitat-connectivity-minshan-mountains/content/l-wl15-o20a\n",
      "https://emammal.si.edu/habitat-connectivity-minshan-mountains/content/l-wl15-p08a\n",
      "https://emammal.si.edu/habitat-connectivity-minshan-mountains/content/l-wl15-p10a\n",
      "https://emammal.si.edu/habitat-connectivity-minshan-mountains/content/l-wl15-p10b\n",
      "https://emammal.si.edu/habitat-connectivity-minshan-mountains/content/l-wl15-p14a\n",
      "https://emammal.si.edu/habitat-connectivity-minshan-mountains/content/l-wl15-p17a\n",
      "https://emammal.si.edu/habitat-connectivity-minshan-mountains/content/l-wl15-p19a\n",
      "https://emammal.si.edu/habitat-connectivity-minshan-mountains/content/l-wl15-p20a\n",
      "https://emammal.si.edu/habitat-connectivity-minshan-mountains/content/l-wl15-q08a\n",
      "https://emammal.si.edu/habitat-connectivity-minshan-mountains/content/l-wl15-q09a\n",
      "https://emammal.si.edu/habitat-connectivity-minshan-mountains/content/l-wl15-q11a\n",
      "https://emammal.si.edu/habitat-connectivity-minshan-mountains/content/l-wl15-q14a\n",
      "https://emammal.si.edu/habitat-connectivity-minshan-mountains/content/l-wl15-q14b\n",
      "https://emammal.si.edu/habitat-connectivity-minshan-mountains/content/l-wl15-q15a\n",
      "https://emammal.si.edu/habitat-connectivity-minshan-mountains/content/l-wl15-q17a\n",
      "https://emammal.si.edu/habitat-connectivity-minshan-mountains/content/l-wl15-q17b\n",
      "https://emammal.si.edu/habitat-connectivity-minshan-mountains/content/l-wl15-q18a\n"
     ]
    },
    {
     "name": "stdout",
     "output_type": "stream",
     "text": [
      "https://emammal.si.edu/habitat-connectivity-minshan-mountains/content/l-wl15-r09a\n",
      "https://emammal.si.edu/habitat-connectivity-minshan-mountains/content/l-wl15-r11a\n",
      "https://emammal.si.edu/habitat-connectivity-minshan-mountains/content/l-wl15-r14a\n",
      "https://emammal.si.edu/habitat-connectivity-minshan-mountains/content/l-wl15-r15a\n",
      "https://emammal.si.edu/habitat-connectivity-minshan-mountains/content/l-wl15-r16a\n",
      "https://emammal.si.edu/habitat-connectivity-minshan-mountains/content/l-wl15-r17a\n",
      "https://emammal.si.edu/habitat-connectivity-minshan-mountains/content/l-wl15-r17b\n",
      "https://emammal.si.edu/habitat-connectivity-minshan-mountains/content/l-wl15-s11a\n",
      "https://emammal.si.edu/habitat-connectivity-minshan-mountains/content/l-wl15-s12a\n",
      "https://emammal.si.edu/habitat-connectivity-minshan-mountains/content/l-wl15-s13a\n",
      "https://emammal.si.edu/habitat-connectivity-minshan-mountains/content/l-wl15-s13b\n",
      "https://emammal.si.edu/habitat-connectivity-minshan-mountains/content/l-wl15-s14a\n",
      "https://emammal.si.edu/habitat-connectivity-minshan-mountains/content/l-wl15-s14b\n",
      "https://emammal.si.edu/habitat-connectivity-minshan-mountains/content/l-wl15-s15a\n",
      "https://emammal.si.edu/habitat-connectivity-minshan-mountains/content/l-wl15-s16a\n",
      "https://emammal.si.edu/habitat-connectivity-minshan-mountains/content/l-wl15-t11a\n",
      "https://emammal.si.edu/habitat-connectivity-minshan-mountains/content/l-wl15-t11b\n",
      "https://emammal.si.edu/habitat-connectivity-minshan-mountains/content/l-wl15-t11c\n",
      "https://emammal.si.edu/habitat-connectivity-minshan-mountains/content/l-wl15-t12a\n",
      "https://emammal.si.edu/habitat-connectivity-minshan-mountains/content/l-wl15-t13a\n",
      "https://emammal.si.edu/habitat-connectivity-minshan-mountains/content/l-wl15-t15a\n",
      "https://emammal.si.edu/habitat-connectivity-minshan-mountains/content/l-wl15-t16a\n",
      "https://emammal.si.edu/habitat-connectivity-minshan-mountains/content/l-wl15-u11a\n",
      "https://emammal.si.edu/habitat-connectivity-minshan-mountains/content/l-wl15-u12a\n",
      "https://emammal.si.edu/habitat-connectivity-minshan-mountains/content/l-wl15-u13a\n",
      "https://emammal.si.edu/habitat-connectivity-minshan-mountains/content/l-wl15-u14a\n",
      "https://emammal.si.edu/habitat-connectivity-minshan-mountains/content/l-wl15-u15a\n",
      "https://emammal.si.edu/habitat-connectivity-minshan-mountains/content/l-wl15-v12a\n",
      "https://emammal.si.edu/habitat-connectivity-minshan-mountains/content/l-wl15-v14a\n",
      "https://emammal.si.edu/habitat-connectivity-minshan-mountains/content/l-wl15-v15a\n",
      "https://emammal.si.edu/habitat-connectivity-minshan-mountains/content/l-wl15-w15a\n",
      "https://emammal.si.edu/habitat-connectivity-minshan-mountains/content/l-wl15-w15b\n",
      "https://emammal.si.edu/habitat-connectivity-minshan-mountains/content/l-wl16-b15a\n",
      "https://emammal.si.edu/habitat-connectivity-minshan-mountains/content/l-wl16-b18a\n",
      "https://emammal.si.edu/habitat-connectivity-minshan-mountains/content/l-wl16-c15a\n",
      "https://emammal.si.edu/habitat-connectivity-minshan-mountains/content/l-wl16-c16a\n",
      "https://emammal.si.edu/habitat-connectivity-minshan-mountains/content/l-wl16-c23a\n",
      "https://emammal.si.edu/habitat-connectivity-minshan-mountains/content/l-wl16-c23b\n",
      "https://emammal.si.edu/habitat-connectivity-minshan-mountains/content/l-wl16-c24a\n",
      "https://emammal.si.edu/habitat-connectivity-minshan-mountains/content/l-wl16-d15a\n",
      "https://emammal.si.edu/habitat-connectivity-minshan-mountains/content/l-wl16-d16a\n",
      "https://emammal.si.edu/habitat-connectivity-minshan-mountains/content/l-wl16-d22a\n",
      "https://emammal.si.edu/habitat-connectivity-minshan-mountains/content/l-wl16-d23a\n",
      "https://emammal.si.edu/habitat-connectivity-minshan-mountains/content/l-wl16-e04a\n",
      "https://emammal.si.edu/habitat-connectivity-minshan-mountains/content/l-wl16-e05a\n",
      "https://emammal.si.edu/habitat-connectivity-minshan-mountains/content/l-wl16-e05b\n",
      "https://emammal.si.edu/habitat-connectivity-minshan-mountains/content/l-wl16-e12a\n",
      "https://emammal.si.edu/habitat-connectivity-minshan-mountains/content/l-wl16-f01a\n",
      "https://emammal.si.edu/habitat-connectivity-minshan-mountains/content/l-wl16-f03a\n",
      "https://emammal.si.edu/habitat-connectivity-minshan-mountains/content/l-wl16-f05a\n",
      "https://emammal.si.edu/habitat-connectivity-minshan-mountains/content/l-wl16-f08a\n",
      "https://emammal.si.edu/habitat-connectivity-minshan-mountains/content/l-wl16-f20a\n",
      "https://emammal.si.edu/habitat-connectivity-minshan-mountains/content/l-wl16-f21a\n",
      "https://emammal.si.edu/habitat-connectivity-minshan-mountains/content/l-wl16-f22a\n",
      "https://emammal.si.edu/habitat-connectivity-minshan-mountains/content/l-wl16-f22b\n",
      "https://emammal.si.edu/habitat-connectivity-minshan-mountains/content/l-wl16-f23a\n",
      "https://emammal.si.edu/habitat-connectivity-minshan-mountains/content/l-wl16-f24a\n",
      "https://emammal.si.edu/habitat-connectivity-minshan-mountains/content/l-wl16-f25a\n",
      "https://emammal.si.edu/habitat-connectivity-minshan-mountains/content/l-wl16-g01a\n",
      "https://emammal.si.edu/habitat-connectivity-minshan-mountains/content/l-wl16-g02a\n",
      "https://emammal.si.edu/habitat-connectivity-minshan-mountains/content/l-wl16-g07a\n",
      "https://emammal.si.edu/habitat-connectivity-minshan-mountains/content/l-wl16-g16a\n",
      "https://emammal.si.edu/habitat-connectivity-minshan-mountains/content/l-wl16-g16b\n",
      "https://emammal.si.edu/habitat-connectivity-minshan-mountains/content/l-wl16-g17a\n",
      "https://emammal.si.edu/habitat-connectivity-minshan-mountains/content/l-wl16-g17b\n",
      "https://emammal.si.edu/habitat-connectivity-minshan-mountains/content/l-wl16-g20a\n",
      "https://emammal.si.edu/habitat-connectivity-minshan-mountains/content/l-wl16-g20b\n",
      "https://emammal.si.edu/habitat-connectivity-minshan-mountains/content/l-wl16-g21a\n",
      "https://emammal.si.edu/habitat-connectivity-minshan-mountains/content/l-wl16-g21b\n",
      "https://emammal.si.edu/habitat-connectivity-minshan-mountains/content/l-wl16-g23a\n",
      "https://emammal.si.edu/habitat-connectivity-minshan-mountains/content/l-wl16-g25a\n",
      "https://emammal.si.edu/habitat-connectivity-minshan-mountains/content/l-wl16-g25b\n",
      "https://emammal.si.edu/habitat-connectivity-minshan-mountains/content/l-wl16-h03a\n",
      "https://emammal.si.edu/habitat-connectivity-minshan-mountains/content/l-wl16-h04a\n",
      "https://emammal.si.edu/habitat-connectivity-minshan-mountains/content/l-wl16-h06a\n",
      "https://emammal.si.edu/habitat-connectivity-minshan-mountains/content/l-wl16-h20a\n",
      "https://emammal.si.edu/habitat-connectivity-minshan-mountains/content/l-wl16-h20b\n",
      "https://emammal.si.edu/habitat-connectivity-minshan-mountains/content/l-wl16-h21a\n",
      "https://emammal.si.edu/habitat-connectivity-minshan-mountains/content/l-wl16-h23a\n",
      "https://emammal.si.edu/habitat-connectivity-minshan-mountains/content/l-wl16-h23b\n",
      "https://emammal.si.edu/habitat-connectivity-minshan-mountains/content/l-wl16-h24a\n",
      "https://emammal.si.edu/habitat-connectivity-minshan-mountains/content/l-wl16-i03a\n",
      "https://emammal.si.edu/habitat-connectivity-minshan-mountains/content/l-wl16-i04a\n",
      "https://emammal.si.edu/habitat-connectivity-minshan-mountains/content/l-wl16-i07a\n",
      "https://emammal.si.edu/habitat-connectivity-minshan-mountains/content/l-wl16-i18a\n",
      "https://emammal.si.edu/habitat-connectivity-minshan-mountains/content/l-wl16-i19a\n",
      "https://emammal.si.edu/habitat-connectivity-minshan-mountains/content/l-wl16-j04a\n",
      "https://emammal.si.edu/habitat-connectivity-minshan-mountains/content/l-wl16-j05a\n",
      "https://emammal.si.edu/habitat-connectivity-minshan-mountains/content/l-wl16-j07a\n",
      "https://emammal.si.edu/habitat-connectivity-minshan-mountains/content/l-wl16-j08a\n",
      "https://emammal.si.edu/habitat-connectivity-minshan-mountains/content/l-wl16-j13a\n",
      "https://emammal.si.edu/habitat-connectivity-minshan-mountains/content/l-wl16-j13b\n",
      "https://emammal.si.edu/habitat-connectivity-minshan-mountains/content/l-wl16-j17a\n",
      "https://emammal.si.edu/habitat-connectivity-minshan-mountains/content/l-wl16-j18a\n",
      "https://emammal.si.edu/habitat-connectivity-minshan-mountains/content/l-wl16-j18b\n",
      "https://emammal.si.edu/habitat-connectivity-minshan-mountains/content/l-wl16-j19a\n",
      "https://emammal.si.edu/habitat-connectivity-minshan-mountains/content/l-wl16-k05a\n",
      "https://emammal.si.edu/habitat-connectivity-minshan-mountains/content/l-wl16-k06a\n",
      "https://emammal.si.edu/habitat-connectivity-minshan-mountains/content/l-wl16-k08a\n",
      "https://emammal.si.edu/habitat-connectivity-minshan-mountains/content/l-wl16-k13a\n"
     ]
    },
    {
     "name": "stdout",
     "output_type": "stream",
     "text": [
      "https://emammal.si.edu/habitat-connectivity-minshan-mountains/content/l-wl16-k15a\n",
      "https://emammal.si.edu/habitat-connectivity-minshan-mountains/content/l-wl16-k18a\n",
      "https://emammal.si.edu/habitat-connectivity-minshan-mountains/content/l-wl16-k21a\n",
      "https://emammal.si.edu/habitat-connectivity-minshan-mountains/content/l-wl16-l08a\n",
      "https://emammal.si.edu/habitat-connectivity-minshan-mountains/content/l-wl16-l11a\n",
      "https://emammal.si.edu/habitat-connectivity-minshan-mountains/content/l-wl16-l12a\n",
      "https://emammal.si.edu/habitat-connectivity-minshan-mountains/content/l-wl16-l16a\n",
      "https://emammal.si.edu/habitat-connectivity-minshan-mountains/content/l-wl16-l19a\n",
      "https://emammal.si.edu/habitat-connectivity-minshan-mountains/content/l-wl16-l20a\n",
      "https://emammal.si.edu/habitat-connectivity-minshan-mountains/content/l-wl16-l22a\n",
      "https://emammal.si.edu/habitat-connectivity-minshan-mountains/content/l-wl16-l23a\n",
      "https://emammal.si.edu/habitat-connectivity-minshan-mountains/content/l-wl16-m06a\n",
      "https://emammal.si.edu/habitat-connectivity-minshan-mountains/content/l-wl16-m10a\n",
      "https://emammal.si.edu/habitat-connectivity-minshan-mountains/content/l-wl16-m16a\n",
      "https://emammal.si.edu/habitat-connectivity-minshan-mountains/content/l-wl16-n07a\n",
      "https://emammal.si.edu/habitat-connectivity-minshan-mountains/content/l-wl16-n10a\n",
      "https://emammal.si.edu/habitat-connectivity-minshan-mountains/content/l-wl16-o05a\n",
      "https://emammal.si.edu/habitat-connectivity-minshan-mountains/content/l-wl16-o06a\n",
      "https://emammal.si.edu/habitat-connectivity-minshan-mountains/content/l-wl16-o07a\n",
      "https://emammal.si.edu/habitat-connectivity-minshan-mountains/content/l-wl16-o08a\n",
      "https://emammal.si.edu/habitat-connectivity-minshan-mountains/content/l-wl16-p05a\n",
      "https://emammal.si.edu/habitat-connectivity-minshan-mountains/content/l-wl16-p06a\n",
      "https://emammal.si.edu/habitat-connectivity-minshan-mountains/content/l-wl16-p07a\n",
      "https://emammal.si.edu/habitat-connectivity-minshan-mountains/content/l-wl16-p10a\n"
     ]
    }
   ],
   "source": [
    "xiaohegou['Camera.Deployment.ID1'] = wanglang.apply(extract_deploymentid,axis=1, args=(payload,project_url))"
   ]
  },
  {
   "cell_type": "code",
   "execution_count": 1,
   "metadata": {},
   "outputs": [],
   "source": [
    "%store -r"
   ]
  },
  {
   "cell_type": "code",
   "execution_count": 6,
   "metadata": {},
   "outputs": [],
   "source": [
    "columns = ['Camera.Deployment.ID1', 'Camera.Deployment.ID', 'Camera.Site.Name', 'Camera.Deployment.Begin.Date', 'Camera.Deployment.End.Date', 'Actual.Latitude', 'Actual.Longitude', 'Camera.Failure.Details', 'Bait', 'Bait.Description', 'Feature', 'Feature.Methodology', 'Camera.ID', 'Quiet.Period.Setting', 'Sensitivity.Setting']\n"
   ]
  },
  {
   "cell_type": "code",
   "execution_count": 6,
   "metadata": {},
   "outputs": [
    {
     "name": "stdout",
     "output_type": "stream",
     "text": [
      "['Camera.Deployment.ID1', 'Camera.Deployment.ID', 'Camera.Site.Name', 'Camera.Deployment.Begin.Date', 'Camera.Deployment.End.Date', 'Actual.Latitude', 'Actual.Longitude', 'Camera.Failure.Details', 'Bait', 'Bait.Description', 'Feature', 'Feature.Methodology', 'Camera.ID', 'Quiet.Period.Setting', 'Sensitivity.Setting']\n"
     ]
    }
   ],
   "source": [
    "print(columns)"
   ]
  },
  {
   "cell_type": "code",
   "execution_count": 7,
   "metadata": {},
   "outputs": [
    {
     "ename": "NameError",
     "evalue": "name 'all_deployments' is not defined",
     "output_type": "error",
     "traceback": [
      "\u001b[0;31m---------------------------------------------------------------------------\u001b[0m",
      "\u001b[0;31mNameError\u001b[0m                                 Traceback (most recent call last)",
      "\u001b[0;32m<ipython-input-7-241e66140477>\u001b[0m in \u001b[0;36m<module>\u001b[0;34m()\u001b[0m\n\u001b[0;32m----> 1\u001b[0;31m \u001b[0mall_deployments\u001b[0m \u001b[0;34m=\u001b[0m \u001b[0mall_deployments\u001b[0m\u001b[0;34m.\u001b[0m\u001b[0mset_index\u001b[0m\u001b[0;34m(\u001b[0m\u001b[0;34m\"Deployment Name\"\u001b[0m\u001b[0;34m)\u001b[0m\u001b[0;34m\u001b[0m\u001b[0m\n\u001b[0m",
      "\u001b[0;31mNameError\u001b[0m: name 'all_deployments' is not defined"
     ]
    }
   ],
   "source": [
    "all_deployments = all_deployments.set_index(\"Deployment Name\")"
   ]
  },
  {
   "cell_type": "code",
   "execution_count": 14,
   "metadata": {},
   "outputs": [],
   "source": [
    "deployment_summary = all_deployments[['Bait','Bait Description','Feature','Feature Description','Users','Quiet Period Setting','Sensitivity Setting']]"
   ]
  },
  {
   "cell_type": "code",
   "execution_count": 161,
   "metadata": {},
   "outputs": [
    {
     "data": {
      "text/html": [
       "<div>\n",
       "<style scoped>\n",
       "    .dataframe tbody tr th:only-of-type {\n",
       "        vertical-align: middle;\n",
       "    }\n",
       "\n",
       "    .dataframe tbody tr th {\n",
       "        vertical-align: top;\n",
       "    }\n",
       "\n",
       "    .dataframe thead th {\n",
       "        text-align: right;\n",
       "    }\n",
       "</style>\n",
       "<table border=\"1\" class=\"dataframe\">\n",
       "  <thead>\n",
       "    <tr style=\"text-align: right;\">\n",
       "      <th></th>\n",
       "      <th>Other Treatment</th>\n",
       "      <th>Other Treatment Description</th>\n",
       "      <th>Users</th>\n",
       "      <th>Groups Audience</th>\n",
       "      <th>Feature</th>\n",
       "      <th>Feature Description</th>\n",
       "      <th>Bait</th>\n",
       "      <th>Bait Description</th>\n",
       "      <th>Proposed Latitude</th>\n",
       "      <th>Proposed Longitude</th>\n",
       "      <th>Proposed Date Out</th>\n",
       "      <th>Proposed Retrieval Date</th>\n",
       "      <th>Image Resolution Setting</th>\n",
       "      <th>Quiet Period Setting</th>\n",
       "      <th>Sensitivity Setting</th>\n",
       "      <th>Subproject Node ID</th>\n",
       "      <th>Group Content Visibility</th>\n",
       "      <th>Status</th>\n",
       "    </tr>\n",
       "    <tr>\n",
       "      <th>Deployment Name</th>\n",
       "      <th></th>\n",
       "      <th></th>\n",
       "      <th></th>\n",
       "      <th></th>\n",
       "      <th></th>\n",
       "      <th></th>\n",
       "      <th></th>\n",
       "      <th></th>\n",
       "      <th></th>\n",
       "      <th></th>\n",
       "      <th></th>\n",
       "      <th></th>\n",
       "      <th></th>\n",
       "      <th></th>\n",
       "      <th></th>\n",
       "      <th></th>\n",
       "      <th></th>\n",
       "      <th></th>\n",
       "    </tr>\n",
       "  </thead>\n",
       "  <tbody>\n",
       "    <tr>\n",
       "      <th>L-WL15-R14A</th>\n",
       "      <td>NaN</td>\n",
       "      <td>NaN</td>\n",
       "      <td>staff</td>\n",
       "      <td>Habitat Connectivity in Minshan Mountains</td>\n",
       "      <td>Trail, game</td>\n",
       "      <td>NaN</td>\n",
       "      <td>Scent</td>\n",
       "      <td>Carman's Magna Lure</td>\n",
       "      <td>NaN</td>\n",
       "      <td>NaN</td>\n",
       "      <td>NaN</td>\n",
       "      <td>NaN</td>\n",
       "      <td>NaN</td>\n",
       "      <td>NaN</td>\n",
       "      <td>high</td>\n",
       "      <td>36855</td>\n",
       "      <td>NaN</td>\n",
       "      <td>NaN</td>\n",
       "    </tr>\n",
       "    <tr>\n",
       "      <th>L-WL16-E12A</th>\n",
       "      <td>NaN</td>\n",
       "      <td>NaN</td>\n",
       "      <td>staff</td>\n",
       "      <td>Habitat Connectivity in Minshan Mountains</td>\n",
       "      <td>Trail, game</td>\n",
       "      <td>NaN</td>\n",
       "      <td>Scent</td>\n",
       "      <td>Carman's Magna Lure</td>\n",
       "      <td>NaN</td>\n",
       "      <td>NaN</td>\n",
       "      <td>NaN</td>\n",
       "      <td>NaN</td>\n",
       "      <td>NaN</td>\n",
       "      <td>NaN</td>\n",
       "      <td>high</td>\n",
       "      <td>36855</td>\n",
       "      <td>NaN</td>\n",
       "      <td>NaN</td>\n",
       "    </tr>\n",
       "    <tr>\n",
       "      <th>L-WL16-F08A</th>\n",
       "      <td>NaN</td>\n",
       "      <td>NaN</td>\n",
       "      <td>staff</td>\n",
       "      <td>Habitat Connectivity in Minshan Mountains</td>\n",
       "      <td>Trail, game</td>\n",
       "      <td>NaN</td>\n",
       "      <td>Scent</td>\n",
       "      <td>Carman's Magna Lure</td>\n",
       "      <td>NaN</td>\n",
       "      <td>NaN</td>\n",
       "      <td>NaN</td>\n",
       "      <td>NaN</td>\n",
       "      <td>NaN</td>\n",
       "      <td>NaN</td>\n",
       "      <td>high</td>\n",
       "      <td>36855</td>\n",
       "      <td>NaN</td>\n",
       "      <td>NaN</td>\n",
       "    </tr>\n",
       "    <tr>\n",
       "      <th>L-WL16-G07A</th>\n",
       "      <td>NaN</td>\n",
       "      <td>NaN</td>\n",
       "      <td>staff</td>\n",
       "      <td>Habitat Connectivity in Minshan Mountains</td>\n",
       "      <td>Trail, game</td>\n",
       "      <td>NaN</td>\n",
       "      <td>Scent</td>\n",
       "      <td>Carman's Magna Lure</td>\n",
       "      <td>NaN</td>\n",
       "      <td>NaN</td>\n",
       "      <td>NaN</td>\n",
       "      <td>NaN</td>\n",
       "      <td>NaN</td>\n",
       "      <td>NaN</td>\n",
       "      <td>high</td>\n",
       "      <td>36855</td>\n",
       "      <td>NaN</td>\n",
       "      <td>NaN</td>\n",
       "    </tr>\n",
       "    <tr>\n",
       "      <th>L-WL16-G20A</th>\n",
       "      <td>NaN</td>\n",
       "      <td>NaN</td>\n",
       "      <td>staff</td>\n",
       "      <td>Habitat Connectivity in Minshan Mountains</td>\n",
       "      <td>Trail, game</td>\n",
       "      <td>NaN</td>\n",
       "      <td>Scent</td>\n",
       "      <td>Carman's Magna Lure</td>\n",
       "      <td>NaN</td>\n",
       "      <td>NaN</td>\n",
       "      <td>NaN</td>\n",
       "      <td>NaN</td>\n",
       "      <td>NaN</td>\n",
       "      <td>NaN</td>\n",
       "      <td>high</td>\n",
       "      <td>36855</td>\n",
       "      <td>NaN</td>\n",
       "      <td>NaN</td>\n",
       "    </tr>\n",
       "  </tbody>\n",
       "</table>\n",
       "</div>"
      ],
      "text/plain": [
       "                 Other Treatment  Other Treatment Description  Users  \\\n",
       "Deployment Name                                                        \n",
       "L-WL15-R14A                  NaN                          NaN  staff   \n",
       "L-WL16-E12A                  NaN                          NaN  staff   \n",
       "L-WL16-F08A                  NaN                          NaN  staff   \n",
       "L-WL16-G07A                  NaN                          NaN  staff   \n",
       "L-WL16-G20A                  NaN                          NaN  staff   \n",
       "\n",
       "                                           Groups Audience      Feature  \\\n",
       "Deployment Name                                                           \n",
       "L-WL15-R14A      Habitat Connectivity in Minshan Mountains  Trail, game   \n",
       "L-WL16-E12A      Habitat Connectivity in Minshan Mountains  Trail, game   \n",
       "L-WL16-F08A      Habitat Connectivity in Minshan Mountains  Trail, game   \n",
       "L-WL16-G07A      Habitat Connectivity in Minshan Mountains  Trail, game   \n",
       "L-WL16-G20A      Habitat Connectivity in Minshan Mountains  Trail, game   \n",
       "\n",
       "                 Feature Description   Bait     Bait Description  \\\n",
       "Deployment Name                                                    \n",
       "L-WL15-R14A                      NaN  Scent  Carman's Magna Lure   \n",
       "L-WL16-E12A                      NaN  Scent  Carman's Magna Lure   \n",
       "L-WL16-F08A                      NaN  Scent  Carman's Magna Lure   \n",
       "L-WL16-G07A                      NaN  Scent  Carman's Magna Lure   \n",
       "L-WL16-G20A                      NaN  Scent  Carman's Magna Lure   \n",
       "\n",
       "                 Proposed Latitude  Proposed Longitude  Proposed Date Out  \\\n",
       "Deployment Name                                                             \n",
       "L-WL15-R14A                    NaN                 NaN                NaN   \n",
       "L-WL16-E12A                    NaN                 NaN                NaN   \n",
       "L-WL16-F08A                    NaN                 NaN                NaN   \n",
       "L-WL16-G07A                    NaN                 NaN                NaN   \n",
       "L-WL16-G20A                    NaN                 NaN                NaN   \n",
       "\n",
       "                 Proposed Retrieval Date  Image Resolution Setting  \\\n",
       "Deployment Name                                                      \n",
       "L-WL15-R14A                          NaN                       NaN   \n",
       "L-WL16-E12A                          NaN                       NaN   \n",
       "L-WL16-F08A                          NaN                       NaN   \n",
       "L-WL16-G07A                          NaN                       NaN   \n",
       "L-WL16-G20A                          NaN                       NaN   \n",
       "\n",
       "                 Quiet Period Setting Sensitivity Setting  Subproject Node ID  \\\n",
       "Deployment Name                                                                 \n",
       "L-WL15-R14A                       NaN                high               36855   \n",
       "L-WL16-E12A                       NaN                high               36855   \n",
       "L-WL16-F08A                       NaN                high               36855   \n",
       "L-WL16-G07A                       NaN                high               36855   \n",
       "L-WL16-G20A                       NaN                high               36855   \n",
       "\n",
       "                 Group Content Visibility  Status  \n",
       "Deployment Name                                    \n",
       "L-WL15-R14A                           NaN     NaN  \n",
       "L-WL16-E12A                           NaN     NaN  \n",
       "L-WL16-F08A                           NaN     NaN  \n",
       "L-WL16-G07A                           NaN     NaN  \n",
       "L-WL16-G20A                           NaN     NaN  "
      ]
     },
     "execution_count": 161,
     "metadata": {},
     "output_type": "execute_result"
    }
   ],
   "source": [
    "wanglang_deployments.head()"
   ]
  },
  {
   "cell_type": "code",
   "execution_count": 162,
   "metadata": {},
   "outputs": [],
   "source": [
    "wanglang_indexed = wanglang.set_index('Camera Deployment ID')"
   ]
  },
  {
   "cell_type": "code",
   "execution_count": 16,
   "metadata": {},
   "outputs": [],
   "source": [
    "wanglang_full = wanglang_indexed.join(deployment_summary,lsuffix = \"old\")"
   ]
  },
  {
   "cell_type": "code",
   "execution_count": 163,
   "metadata": {},
   "outputs": [],
   "source": [
    "wanglang_existing = wanglang_deployments.join(wanglang_indexed,lsuffix=\"old\")"
   ]
  },
  {
   "cell_type": "code",
   "execution_count": 164,
   "metadata": {},
   "outputs": [
    {
     "data": {
      "text/plain": [
       "(185, 33)"
      ]
     },
     "execution_count": 164,
     "metadata": {},
     "output_type": "execute_result"
    }
   ],
   "source": [
    "wanglang_existing.head()\n",
    "wanglang_existing.shape"
   ]
  },
  {
   "cell_type": "code",
   "execution_count": 165,
   "metadata": {},
   "outputs": [
    {
     "data": {
      "text/html": [
       "<div>\n",
       "<style scoped>\n",
       "    .dataframe tbody tr th:only-of-type {\n",
       "        vertical-align: middle;\n",
       "    }\n",
       "\n",
       "    .dataframe tbody tr th {\n",
       "        vertical-align: top;\n",
       "    }\n",
       "\n",
       "    .dataframe thead th {\n",
       "        text-align: right;\n",
       "    }\n",
       "</style>\n",
       "<table border=\"1\" class=\"dataframe\">\n",
       "  <thead>\n",
       "    <tr style=\"text-align: right;\">\n",
       "      <th></th>\n",
       "      <th>Other Treatment</th>\n",
       "      <th>Other Treatment Description</th>\n",
       "      <th>Users</th>\n",
       "      <th>Groups Audience</th>\n",
       "      <th>Feature</th>\n",
       "      <th>Feature Description</th>\n",
       "      <th>Bait</th>\n",
       "      <th>Bait Description</th>\n",
       "      <th>Proposed Latitude</th>\n",
       "      <th>Proposed Longitude</th>\n",
       "      <th>...</th>\n",
       "      <th>Elevation</th>\n",
       "      <th>Latitude</th>\n",
       "      <th>Longitude</th>\n",
       "      <th>Camera Deployment Begin Date</th>\n",
       "      <th>Camera Deployment Begin Time</th>\n",
       "      <th>Camera ID</th>\n",
       "      <th>Camera Deployment End Date</th>\n",
       "      <th>Vegetation Type</th>\n",
       "      <th>Quiet Period Setting</th>\n",
       "      <th>Sensitivity Setting</th>\n",
       "    </tr>\n",
       "    <tr>\n",
       "      <th>Deployment Name</th>\n",
       "      <th></th>\n",
       "      <th></th>\n",
       "      <th></th>\n",
       "      <th></th>\n",
       "      <th></th>\n",
       "      <th></th>\n",
       "      <th></th>\n",
       "      <th></th>\n",
       "      <th></th>\n",
       "      <th></th>\n",
       "      <th></th>\n",
       "      <th></th>\n",
       "      <th></th>\n",
       "      <th></th>\n",
       "      <th></th>\n",
       "      <th></th>\n",
       "      <th></th>\n",
       "      <th></th>\n",
       "      <th></th>\n",
       "      <th></th>\n",
       "      <th></th>\n",
       "    </tr>\n",
       "  </thead>\n",
       "  <tbody>\n",
       "    <tr>\n",
       "      <th>L-WL16-K08A</th>\n",
       "      <td>NaN</td>\n",
       "      <td>NaN</td>\n",
       "      <td>staff</td>\n",
       "      <td>Habitat Connectivity in Minshan Mountains</td>\n",
       "      <td>Trail, game</td>\n",
       "      <td>NaN</td>\n",
       "      <td>Scent</td>\n",
       "      <td>Carman's Magna Lure</td>\n",
       "      <td>NaN</td>\n",
       "      <td>NaN</td>\n",
       "      <td>...</td>\n",
       "      <td>3593.0</td>\n",
       "      <td>32.978420</td>\n",
       "      <td>104.04938</td>\n",
       "      <td>8/2/2016</td>\n",
       "      <td>14:10</td>\n",
       "      <td>WL-028</td>\n",
       "      <td>NaN</td>\n",
       "      <td>NaN</td>\n",
       "      <td>NaN</td>\n",
       "      <td>High</td>\n",
       "    </tr>\n",
       "    <tr>\n",
       "      <th>L-WL16-L16A</th>\n",
       "      <td>NaN</td>\n",
       "      <td>NaN</td>\n",
       "      <td>staff</td>\n",
       "      <td>Habitat Connectivity in Minshan Mountains</td>\n",
       "      <td>Trail, game</td>\n",
       "      <td>NaN</td>\n",
       "      <td>Scent</td>\n",
       "      <td>Carman's Magna Lure</td>\n",
       "      <td>NaN</td>\n",
       "      <td>NaN</td>\n",
       "      <td>...</td>\n",
       "      <td>3290.0</td>\n",
       "      <td>32.907558</td>\n",
       "      <td>104.06481</td>\n",
       "      <td>7/27/2016</td>\n",
       "      <td>14:05</td>\n",
       "      <td>L021</td>\n",
       "      <td>NaN</td>\n",
       "      <td>Coniferous Forest</td>\n",
       "      <td>NaN</td>\n",
       "      <td>High</td>\n",
       "    </tr>\n",
       "    <tr>\n",
       "      <th>L-WL16-L19A</th>\n",
       "      <td>NaN</td>\n",
       "      <td>NaN</td>\n",
       "      <td>staff</td>\n",
       "      <td>Habitat Connectivity in Minshan Mountains</td>\n",
       "      <td>Trail, game</td>\n",
       "      <td>NaN</td>\n",
       "      <td>Scent</td>\n",
       "      <td>Carman's Magna Lure</td>\n",
       "      <td>NaN</td>\n",
       "      <td>NaN</td>\n",
       "      <td>...</td>\n",
       "      <td>3715.0</td>\n",
       "      <td>32.877399</td>\n",
       "      <td>104.06398</td>\n",
       "      <td>7/27/2016</td>\n",
       "      <td>13:10</td>\n",
       "      <td>L015</td>\n",
       "      <td>NaN</td>\n",
       "      <td>Bare Rock</td>\n",
       "      <td>NaN</td>\n",
       "      <td>High</td>\n",
       "    </tr>\n",
       "    <tr>\n",
       "      <th>L-WL16-L20A</th>\n",
       "      <td>NaN</td>\n",
       "      <td>NaN</td>\n",
       "      <td>staff</td>\n",
       "      <td>Habitat Connectivity in Minshan Mountains</td>\n",
       "      <td>Trail, game</td>\n",
       "      <td>NaN</td>\n",
       "      <td>Scent</td>\n",
       "      <td>Carman's Magna Lure</td>\n",
       "      <td>NaN</td>\n",
       "      <td>NaN</td>\n",
       "      <td>...</td>\n",
       "      <td>3862.0</td>\n",
       "      <td>32.875660</td>\n",
       "      <td>104.06594</td>\n",
       "      <td>7/27/2016</td>\n",
       "      <td>13:50</td>\n",
       "      <td>L014</td>\n",
       "      <td>NaN</td>\n",
       "      <td>Bare Rock</td>\n",
       "      <td>NaN</td>\n",
       "      <td>High</td>\n",
       "    </tr>\n",
       "    <tr>\n",
       "      <th>L-WL16-M16A</th>\n",
       "      <td>NaN</td>\n",
       "      <td>NaN</td>\n",
       "      <td>staff</td>\n",
       "      <td>Habitat Connectivity in Minshan Mountains</td>\n",
       "      <td>Trail, game</td>\n",
       "      <td>NaN</td>\n",
       "      <td>Scent</td>\n",
       "      <td>Carman's Magna Lure</td>\n",
       "      <td>NaN</td>\n",
       "      <td>NaN</td>\n",
       "      <td>...</td>\n",
       "      <td>3448.0</td>\n",
       "      <td>32.908539</td>\n",
       "      <td>104.07016</td>\n",
       "      <td>7/27/2016</td>\n",
       "      <td>13:04</td>\n",
       "      <td>L024</td>\n",
       "      <td>NaN</td>\n",
       "      <td>Coniferous Forest</td>\n",
       "      <td>NaN</td>\n",
       "      <td>High</td>\n",
       "    </tr>\n",
       "  </tbody>\n",
       "</table>\n",
       "<p>5 rows × 33 columns</p>\n",
       "</div>"
      ],
      "text/plain": [
       "                 Other Treatment  Other Treatment Description  Users  \\\n",
       "Deployment Name                                                        \n",
       "L-WL16-K08A                  NaN                          NaN  staff   \n",
       "L-WL16-L16A                  NaN                          NaN  staff   \n",
       "L-WL16-L19A                  NaN                          NaN  staff   \n",
       "L-WL16-L20A                  NaN                          NaN  staff   \n",
       "L-WL16-M16A                  NaN                          NaN  staff   \n",
       "\n",
       "                                           Groups Audience      Feature  \\\n",
       "Deployment Name                                                           \n",
       "L-WL16-K08A      Habitat Connectivity in Minshan Mountains  Trail, game   \n",
       "L-WL16-L16A      Habitat Connectivity in Minshan Mountains  Trail, game   \n",
       "L-WL16-L19A      Habitat Connectivity in Minshan Mountains  Trail, game   \n",
       "L-WL16-L20A      Habitat Connectivity in Minshan Mountains  Trail, game   \n",
       "L-WL16-M16A      Habitat Connectivity in Minshan Mountains  Trail, game   \n",
       "\n",
       "                 Feature Description   Bait     Bait Description  \\\n",
       "Deployment Name                                                    \n",
       "L-WL16-K08A                      NaN  Scent  Carman's Magna Lure   \n",
       "L-WL16-L16A                      NaN  Scent  Carman's Magna Lure   \n",
       "L-WL16-L19A                      NaN  Scent  Carman's Magna Lure   \n",
       "L-WL16-L20A                      NaN  Scent  Carman's Magna Lure   \n",
       "L-WL16-M16A                      NaN  Scent  Carman's Magna Lure   \n",
       "\n",
       "                 Proposed Latitude  Proposed Longitude         ...           \\\n",
       "Deployment Name                                                ...            \n",
       "L-WL16-K08A                    NaN                 NaN         ...            \n",
       "L-WL16-L16A                    NaN                 NaN         ...            \n",
       "L-WL16-L19A                    NaN                 NaN         ...            \n",
       "L-WL16-L20A                    NaN                 NaN         ...            \n",
       "L-WL16-M16A                    NaN                 NaN         ...            \n",
       "\n",
       "                 Elevation   Latitude  Longitude  \\\n",
       "Deployment Name                                    \n",
       "L-WL16-K08A         3593.0  32.978420  104.04938   \n",
       "L-WL16-L16A         3290.0  32.907558  104.06481   \n",
       "L-WL16-L19A         3715.0  32.877399  104.06398   \n",
       "L-WL16-L20A         3862.0  32.875660  104.06594   \n",
       "L-WL16-M16A         3448.0  32.908539  104.07016   \n",
       "\n",
       "                 Camera Deployment Begin Date Camera Deployment Begin Time  \\\n",
       "Deployment Name                                                              \n",
       "L-WL16-K08A                          8/2/2016                        14:10   \n",
       "L-WL16-L16A                         7/27/2016                        14:05   \n",
       "L-WL16-L19A                         7/27/2016                        13:10   \n",
       "L-WL16-L20A                         7/27/2016                        13:50   \n",
       "L-WL16-M16A                         7/27/2016                        13:04   \n",
       "\n",
       "                 Camera ID  Camera Deployment End Date    Vegetation Type  \\\n",
       "Deployment Name                                                             \n",
       "L-WL16-K08A         WL-028                         NaN                NaN   \n",
       "L-WL16-L16A           L021                         NaN  Coniferous Forest   \n",
       "L-WL16-L19A           L015                         NaN          Bare Rock   \n",
       "L-WL16-L20A           L014                         NaN          Bare Rock   \n",
       "L-WL16-M16A           L024                         NaN  Coniferous Forest   \n",
       "\n",
       "                 Quiet Period Setting  Sensitivity Setting  \n",
       "Deployment Name                                             \n",
       "L-WL16-K08A                       NaN                 High  \n",
       "L-WL16-L16A                       NaN                 High  \n",
       "L-WL16-L19A                       NaN                 High  \n",
       "L-WL16-L20A                       NaN                 High  \n",
       "L-WL16-M16A                       NaN                 High  \n",
       "\n",
       "[5 rows x 33 columns]"
      ]
     },
     "execution_count": 165,
     "metadata": {},
     "output_type": "execute_result"
    }
   ],
   "source": [
    "wanglang_existing.tail()"
   ]
  },
  {
   "cell_type": "code",
   "execution_count": 166,
   "metadata": {},
   "outputs": [],
   "source": [
    "wanglang_existing.reset_index(inplace=True)"
   ]
  },
  {
   "cell_type": "code",
   "execution_count": 167,
   "metadata": {},
   "outputs": [],
   "source": [
    "renaming = {'Deployment Name':'Camera.Deployment.ID','Latitude':'Actual.Latitude', 'Longitude':'Actual.Longitude','Camera Deployment Begin Date':'Camera.Deployment.Begin.Date', 'Camera Deployment End Date':'Camera.Deployment.End.Date','Camera ID':'Camera.ID', 'Quiet Period Setting':'Quiet.Period.Setting', 'Sensitivity Setting':'Sensitivity.Setting','Bait Description':'Bait.Description','Feature Description':'Feature.Methodology','Quiet Period Setting':'Quiet.Period.Setting','Sensitivity Setting':'Sensitivity.Setting'}"
   ]
  },
  {
   "cell_type": "code",
   "execution_count": 168,
   "metadata": {},
   "outputs": [],
   "source": [
    "wanglangrename = wanglang_existing.rename(renaming,axis=1)"
   ]
  },
  {
   "cell_type": "code",
   "execution_count": 169,
   "metadata": {},
   "outputs": [],
   "source": [
    "wanglangrename['Camera.Site.Name'] = wanglangrename['Camera.Deployment.ID']"
   ]
  },
  {
   "cell_type": "code",
   "execution_count": 170,
   "metadata": {},
   "outputs": [],
   "source": [
    "wanglangrename['Camera.Failure.Details'] = \"Camera Functioning\""
   ]
  },
  {
   "cell_type": "code",
   "execution_count": 171,
   "metadata": {},
   "outputs": [],
   "source": [
    "wanglangrename['Sensitivity.Setting'] = \"high\""
   ]
  },
  {
   "cell_type": "code",
   "execution_count": 172,
   "metadata": {},
   "outputs": [],
   "source": [
    "def set_start_date(row,image_df):\n",
    "    deploy_name = row[\"Camera.Deployment.ID\"]\n",
    "    return image_df[image_df[\"Deployment.ID\"] == deploy_name][\"Date.Time\"].min().date()\n",
    "\n",
    "def set_end_date(row,image_df):\n",
    "    deploy_name = row[\"Camera.Deployment.ID\"]\n",
    "    return image_df[image_df[\"Deployment.ID\"] == deploy_name][\"Date.Time\"].max().date()"
   ]
  },
  {
   "cell_type": "code",
   "execution_count": 173,
   "metadata": {},
   "outputs": [],
   "source": [
    "wanglangrename[\"Camera.Deployment.End.Date\"] = wanglangrename.apply(func=set_end_date, args=(wanglang_images, ), axis=1)"
   ]
  },
  {
   "cell_type": "code",
   "execution_count": 174,
   "metadata": {},
   "outputs": [],
   "source": [
    "wanglangrename[\"Camera.Deployment.Begin.Date\"] = wanglangrename.apply(func=set_start_date, args=(wanglang_images, ), axis=1)"
   ]
  },
  {
   "cell_type": "code",
   "execution_count": 189,
   "metadata": {},
   "outputs": [],
   "source": [
    "no_identifications = wanglangrename.loc[~wanglangrename[\"Camera.Deployment.End.Date\"].notnull()]"
   ]
  },
  {
   "cell_type": "code",
   "execution_count": 190,
   "metadata": {},
   "outputs": [
    {
     "data": {
      "text/plain": [
       "(185, 36)"
      ]
     },
     "execution_count": 190,
     "metadata": {},
     "output_type": "execute_result"
    }
   ],
   "source": [
    "wanglangrename.shape"
   ]
  },
  {
   "cell_type": "code",
   "execution_count": 191,
   "metadata": {},
   "outputs": [
    {
     "data": {
      "text/plain": [
       "(54, 36)"
      ]
     },
     "execution_count": 191,
     "metadata": {},
     "output_type": "execute_result"
    }
   ],
   "source": [
    "no_identifications.shape"
   ]
  },
  {
   "cell_type": "code",
   "execution_count": 135,
   "metadata": {},
   "outputs": [],
   "source": [
    "no_identifications.to_csv(\"wanglang_no_species.csv\")"
   ]
  },
  {
   "cell_type": "code",
   "execution_count": 178,
   "metadata": {},
   "outputs": [],
   "source": [
    "identified_deployments = wanglang_images.drop_duplicates(\"Deployment.ID1\")"
   ]
  },
  {
   "cell_type": "code",
   "execution_count": 179,
   "metadata": {},
   "outputs": [],
   "source": [
    "identified_deployments.head()\n",
    "identified_deployments.set_index(\"Deployment.ID\",inplace=True)"
   ]
  },
  {
   "cell_type": "code",
   "execution_count": 180,
   "metadata": {},
   "outputs": [
    {
     "data": {
      "text/plain": [
       "(131, 23)"
      ]
     },
     "execution_count": 180,
     "metadata": {},
     "output_type": "execute_result"
    }
   ],
   "source": [
    "identified_deployments.shape"
   ]
  },
  {
   "cell_type": "code",
   "execution_count": 181,
   "metadata": {},
   "outputs": [],
   "source": [
    "identified_photos = wanglangrename.loc[wanglangrename[\"Camera.Deployment.End.Date\"].notnull()].set_index(\"Camera.Deployment.ID\")\n",
    "identified_deployments.join(identified_photos, lsuffix=\"_old\").columns\n",
    "identified_and_exist = pandas.merge(identified_deployments,identified_photos,left_index=True,right_index=True)"
   ]
  },
  {
   "cell_type": "code",
   "execution_count": 182,
   "metadata": {},
   "outputs": [
    {
     "data": {
      "text/plain": [
       "(131, 58)"
      ]
     },
     "execution_count": 182,
     "metadata": {},
     "output_type": "execute_result"
    }
   ],
   "source": [
    "identified_and_exist.shape"
   ]
  },
  {
   "cell_type": "code",
   "execution_count": 183,
   "metadata": {},
   "outputs": [],
   "source": [
    "identified_and_exist.reset_index(inplace=True)\n",
    "identified_and_exist = identified_and_exist.rename({\"index\":\"Camera.Deployment.ID\",\"Deployment.ID1\":\"Camera.Deployment.ID1\"},axis=1)"
   ]
  },
  {
   "cell_type": "code",
   "execution_count": 185,
   "metadata": {},
   "outputs": [],
   "source": [
    "targetcolumns = ['Camera.Deployment.ID1', 'Camera.Deployment.ID', 'Camera.Site.Name', 'Camera.Deployment.Begin.Date', 'Camera.Deployment.End.Date', 'Actual.Latitude', 'Actual.Longitude', 'Camera.Failure.Details', 'Bait', 'Bait.Description', 'Feature', 'Feature.Methodology', 'Camera.ID', 'Quiet.Period.Setting', 'Sensitivity.Setting']\n",
    "final = identified_and_exist[targetcolumns]"
   ]
  },
  {
   "cell_type": "code",
   "execution_count": 187,
   "metadata": {},
   "outputs": [],
   "source": [
    "final.to_csv(\"wanglang_deployment.csv\")"
   ]
  },
  {
   "cell_type": "code",
   "execution_count": 188,
   "metadata": {},
   "outputs": [
    {
     "name": "stdout",
     "output_type": "stream",
     "text": [
      "Stored 'final' (DataFrame)\n"
     ]
    }
   ],
   "source": [
    "%store final"
   ]
  },
  {
   "cell_type": "code",
   "execution_count": 1,
   "metadata": {},
   "outputs": [],
   "source": [
    "%store -r"
   ]
  },
  {
   "cell_type": "code",
   "execution_count": 4,
   "metadata": {},
   "outputs": [
    {
     "data": {
      "text/plain": [
       "'新北林'"
      ]
     },
     "execution_count": 4,
     "metadata": {},
     "output_type": "execute_result"
    }
   ],
   "source": [
    "final.iloc[68][\"Camera.ID\"]"
   ]
  },
  {
   "cell_type": "code",
   "execution_count": 40,
   "metadata": {},
   "outputs": [
    {
     "data": {
      "text/plain": [
       "(225, 12)"
      ]
     },
     "execution_count": 40,
     "metadata": {},
     "output_type": "execute_result"
    }
   ],
   "source": [
    "wanglang.shape"
   ]
  },
  {
   "cell_type": "code",
   "execution_count": 41,
   "metadata": {},
   "outputs": [
    {
     "data": {
      "text/plain": [
       "(466, 7)"
      ]
     },
     "execution_count": 41,
     "metadata": {},
     "output_type": "execute_result"
    }
   ],
   "source": [
    "deployment_summary.shape"
   ]
  },
  {
   "cell_type": "code",
   "execution_count": 42,
   "metadata": {},
   "outputs": [
    {
     "data": {
      "text/plain": [
       "(225, 15)"
      ]
     },
     "execution_count": 42,
     "metadata": {},
     "output_type": "execute_result"
    }
   ],
   "source": [
    "final.shape"
   ]
  },
  {
   "cell_type": "code",
   "execution_count": 194,
   "metadata": {},
   "outputs": [
    {
     "name": "stdout",
     "output_type": "stream",
     "text": [
      "Stored 'no_identifications' (DataFrame)\n"
     ]
    }
   ],
   "source": [
    "%store no_identifications"
   ]
  },
  {
   "cell_type": "code",
   "execution_count": 195,
   "metadata": {},
   "outputs": [
    {
     "name": "stdout",
     "output_type": "stream",
     "text": [
      "Stored 'wanglangrename' (DataFrame)\n"
     ]
    }
   ],
   "source": [
    "%store wanglangrename"
   ]
  },
  {
   "cell_type": "code",
   "execution_count": null,
   "metadata": {},
   "outputs": [],
   "source": []
  }
 ],
 "metadata": {
  "kernelspec": {
   "display_name": "Python 3",
   "language": "python",
   "name": "python3"
  },
  "language_info": {
   "codemirror_mode": {
    "name": "ipython",
    "version": 3
   },
   "file_extension": ".py",
   "mimetype": "text/x-python",
   "name": "python",
   "nbconvert_exporter": "python",
   "pygments_lexer": "ipython3",
   "version": "3.6.4"
  }
 },
 "nbformat": 4,
 "nbformat_minor": 2
}
